{
  "nbformat": 4,
  "nbformat_minor": 0,
  "metadata": {
    "colab": {
      "provenance": [],
      "toc_visible": true,
      "authorship_tag": "ABX9TyOlnMYW2EDl/yNB9SsTP3Oc",
      "include_colab_link": true
    },
    "kernelspec": {
      "name": "python3",
      "display_name": "Python 3"
    },
    "language_info": {
      "name": "python"
    }
  },
  "cells": [
    {
      "cell_type": "markdown",
      "metadata": {
        "id": "view-in-github",
        "colab_type": "text"
      },
      "source": [
        "<a href=\"https://colab.research.google.com/github/Ligialuccas/python_na_universidade/blob/master/aula3.ipynb\" target=\"_parent\"><img src=\"https://colab.research.google.com/assets/colab-badge.svg\" alt=\"Open In Colab\"/></a>"
      ]
    },
    {
      "cell_type": "markdown",
      "source": [
        "# Condicional simples"
      ],
      "metadata": {
        "id": "E48yuYeAxNQJ"
      }
    },
    {
      "cell_type": "code",
      "source": [
        "#lê dois valores inteiros e compara ambos\n",
        "x = int(input('Digite um valor inteiro: '))\n",
        "y = int(input('Digite um segundo valor inteiro: '))\n",
        "if (x > y ):\n",
        "  print('O primeiro valor é maior que o segundo!')"
      ],
      "metadata": {
        "colab": {
          "base_uri": "https://localhost:8080/"
        },
        "id": "yTtqxmyfxTcg",
        "outputId": "77962491-ba91-4e4a-bb60-4739a7574262"
      },
      "execution_count": null,
      "outputs": [
        {
          "output_type": "stream",
          "name": "stdout",
          "text": [
            "Digite um valor inteiro: 8\n",
            "Digite um segundo valor inteiro: 3\n",
            "O primeiro valor é maior que o segundo!\n"
          ]
        }
      ]
    },
    {
      "cell_type": "markdown",
      "source": [
        "# Condicional composta"
      ],
      "metadata": {
        "id": "AcRGk0CSyG3j"
      }
    },
    {
      "cell_type": "code",
      "source": [
        "# par ou impar\n",
        "x = int(input('Digite um valor inteiro: '))\n",
        "if (x % 2 == 0):\n",
        "  print('O número é par!')\n",
        "else:\n",
        "  print('O número é Ímpar!')\n"
      ],
      "metadata": {
        "colab": {
          "base_uri": "https://localhost:8080/"
        },
        "id": "K0FiovamyLYM",
        "outputId": "847afef5-3162-4961-d494-e559ff07d079"
      },
      "execution_count": null,
      "outputs": [
        {
          "output_type": "stream",
          "name": "stdout",
          "text": [
            "Digite um valor inteiro: 3\n",
            "O número é Ímpar!\n"
          ]
        }
      ]
    },
    {
      "cell_type": "markdown",
      "source": [
        "# Expressões lógicas e algebra booleana"
      ],
      "metadata": {
        "id": "fReQcVqq2fSK"
      }
    },
    {
      "cell_type": "markdown",
      "source": [
        "# Operadores lógicos/booleanos"
      ],
      "metadata": {
        "id": "isqLEDv1-DtM"
      }
    },
    {
      "cell_type": "code",
      "source": [
        "# not\n",
        "x = True\n",
        "y = False\n",
        "print (not x)\n",
        "print (not y)"
      ],
      "metadata": {
        "colab": {
          "base_uri": "https://localhost:8080/"
        },
        "id": "E1XR6ZN72pxH",
        "outputId": "a6eaf055-f37d-4eb3-e8f2-d31262cf4643"
      },
      "execution_count": null,
      "outputs": [
        {
          "output_type": "stream",
          "name": "stdout",
          "text": [
            "False\n",
            "True\n"
          ]
        }
      ]
    },
    {
      "cell_type": "code",
      "source": [
        "# and\n",
        "x = True\n",
        "y = False\n",
        "print (x and y)"
      ],
      "metadata": {
        "colab": {
          "base_uri": "https://localhost:8080/"
        },
        "id": "hb4LNHjC-hGi",
        "outputId": "af1ae380-86c5-4afe-a734-b76689c9f87a"
      },
      "execution_count": null,
      "outputs": [
        {
          "output_type": "stream",
          "name": "stdout",
          "text": [
            "False\n"
          ]
        }
      ]
    },
    {
      "cell_type": "code",
      "source": [
        "# or\n",
        "x = True\n",
        "y = False\n",
        "print (x or y)"
      ],
      "metadata": {
        "colab": {
          "base_uri": "https://localhost:8080/"
        },
        "id": "IJjkOvpR-swQ",
        "outputId": "1a9cdee4-3cd3-4f0d-d508-39d8a9900a93"
      },
      "execution_count": null,
      "outputs": [
        {
          "output_type": "stream",
          "name": "stdout",
          "text": [
            "True\n"
          ]
        }
      ]
    },
    {
      "cell_type": "markdown",
      "source": [
        "# Expressões lógicas/booleanas"
      ],
      "metadata": {
        "id": "L0UMVC_wBV80"
      }
    },
    {
      "cell_type": "code",
      "source": [
        "x = 10\n",
        "y = 1\n",
        "res = not x > y\n",
        "print(res)"
      ],
      "metadata": {
        "colab": {
          "base_uri": "https://localhost:8080/"
        },
        "id": "_TP6mNYwBr-8",
        "outputId": "3e34841d-2292-4e1d-bedb-158232ec9451"
      },
      "execution_count": null,
      "outputs": [
        {
          "output_type": "stream",
          "name": "stdout",
          "text": [
            "False\n"
          ]
        }
      ]
    },
    {
      "cell_type": "code",
      "source": [
        "x = 10\n",
        "y = 1\n",
        "z = 5.5\n",
        "res = x > y and z == y\n",
        "print(res)"
      ],
      "metadata": {
        "colab": {
          "base_uri": "https://localhost:8080/"
        },
        "id": "2FwCE6QFB6mn",
        "outputId": "587a55ce-049f-4bb8-b94d-5b7086f02485"
      },
      "execution_count": null,
      "outputs": [
        {
          "output_type": "stream",
          "name": "stdout",
          "text": [
            "False\n"
          ]
        }
      ]
    },
    {
      "cell_type": "markdown",
      "source": [
        "# Exercicios"
      ],
      "metadata": {
        "id": "mDYDFjk5C626"
      }
    },
    {
      "cell_type": "code",
      "source": [
        "#Exercício 3.3.1\n",
        "m1 = float(input('Digite a nota da 1ª matéria: '))\n",
        "m2 = float(input('Digite a nota da 2ª matéria: '))\n",
        "m3 = float(input('Digite a nota da 3ª matéria: '))\n",
        "if m1 >= 7 and m2 >= 7 and m3 >= 7:\n",
        "  print('O aluno está aprovado de ano!');\n",
        "else:\n",
        "  print('O aluno não passou de ano!');"
      ],
      "metadata": {
        "colab": {
          "base_uri": "https://localhost:8080/"
        },
        "id": "r6reYV8gC_XW",
        "outputId": "3b17a993-b5db-41fe-e6a7-7e75838add3b"
      },
      "execution_count": null,
      "outputs": [
        {
          "output_type": "stream",
          "name": "stdout",
          "text": [
            "Digite a nota da 1ª matéria: 10\n",
            "Digite a nota da 2ª matéria: 10\n",
            "Digite a nota da 3ª matéria: 6\n",
            "O aluno não passou de ano!\n"
          ]
        }
      ]
    },
    {
      "cell_type": "code",
      "source": [
        "#Exercício 4.1.1\n",
        "print('Qual fruta você quer comprar: ')\n",
        "print('1 - Maçã')\n",
        "print('2 - Laranja')\n",
        "print('3 - Banana')\n",
        "produto = int(input('Qual sua escolha?'))\n",
        "qtd = int(input('Quantas unidades?'))\n",
        "if (produto == 1):\n",
        "  pagar = qtd * 2.3\n",
        "  print('Você comprou {} maçãs. Total à pagar: {}' .format(qtd, pagar))\n",
        "else:\n",
        "  if (produto == 2):\n",
        "    pagar = qtd * 3.6\n",
        "    print('Você comprou {} laranjas. Total à pagar: {}' .format(qtd, pagar))\n",
        "  else:\n",
        "    if (produto == 3):\n",
        "      pagar = qtd * 1.85\n",
        "      print('Você comprou {} bananas. Total à pagar: {}' .format(qtd, pagar))\n",
        "    else:\n",
        "      print('Produto inexistente!')\n",
        "\n",
        "\n"
      ],
      "metadata": {
        "colab": {
          "base_uri": "https://localhost:8080/"
        },
        "id": "H8KSAWa_TJfM",
        "outputId": "4656b31a-51a1-4764-eb35-8199a7c32b6b"
      },
      "execution_count": 3,
      "outputs": [
        {
          "output_type": "stream",
          "name": "stdout",
          "text": [
            "Qual fruta você quer comprar: \n",
            "1 - Maçã\n",
            "2 - Laranja\n",
            "3 - Banana\n",
            "Qual sua escolha?1\n",
            "Quantas unidades?2\n",
            "Você comprou 2 maçãs. Total à pagar: 4.6\n"
          ]
        }
      ]
    },
    {
      "cell_type": "markdown",
      "source": [
        "# Condicionais de múltipla escolha"
      ],
      "metadata": {
        "id": "MLQDebgvY2pk"
      }
    },
    {
      "cell_type": "code",
      "source": [
        "# Exercício 4.1.1 com elif\n",
        "print('Qual fruta você quer comprar: ')\n",
        "print('1 - Maçã')\n",
        "print('2 - Laranja')\n",
        "print('3 - Banana')\n",
        "produto = int(input('Qual sua escolha?'))\n",
        "qtd = int(input('Quantas unidades?'))\n",
        "if (produto == 1):\n",
        "  pagar = qtd * 2.3\n",
        "  print('Você comprou {} maçãs. Total à pagar: {}' .format(qtd, pagar))\n",
        "elif (produto == 2):\n",
        "    pagar = qtd * 3.6\n",
        "    print('Você comprou {} laranjas. Total à pagar: {}' .format(qtd, pagar))\n",
        "elif (produto == 3):\n",
        "    pagar = qtd * 1.85\n",
        "    print('Você comprou {} bananas. Total à pagar: {}' .format(qtd, pagar))\n",
        "else:\n",
        "  print('Produto inexistente!')"
      ],
      "metadata": {
        "colab": {
          "base_uri": "https://localhost:8080/"
        },
        "id": "41Iw3H8oZAgz",
        "outputId": "f10af0e9-e35e-4fc6-fcdd-8eb14b3d2d03"
      },
      "execution_count": 5,
      "outputs": [
        {
          "output_type": "stream",
          "name": "stdout",
          "text": [
            "Qual fruta você quer comprar: \n",
            "1 - Maçã\n",
            "2 - Laranja\n",
            "3 - Banana\n",
            "Qual sua escolha?5\n",
            "Quantas unidades?5\n",
            "Produto inexistente!\n"
          ]
        }
      ]
    },
    {
      "cell_type": "code",
      "source": [
        "nome = input('Qual seu nome? ')\n",
        "idade = int(input('Qual sua idade? '))\n",
        "if nome == 'Ligia':\n",
        "  print('Olá Ligia!')\n",
        "elif idade < 18:\n",
        "  print('Você não é a Ligia! e é menor de idade!')\n",
        "elif idade > 100:\n",
        "  print('diferente de você, a Ligia não é imortal!')\n",
        "else:\n",
        "  print('Você não é a Ligia')"
      ],
      "metadata": {
        "colab": {
          "base_uri": "https://localhost:8080/"
        },
        "id": "7jgi-qKWdeZr",
        "outputId": "50b91058-9996-4a97-c6a3-53d4c54e886b"
      },
      "execution_count": 13,
      "outputs": [
        {
          "output_type": "stream",
          "name": "stdout",
          "text": [
            "Qual seu nome? camila\n",
            "Qual sua idade? 60\n",
            "Você não é a Ligia\n"
          ]
        }
      ]
    }
  ]
}