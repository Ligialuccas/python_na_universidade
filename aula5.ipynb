{
  "cells": [
    {
      "cell_type": "markdown",
      "metadata": {
        "id": "view-in-github",
        "colab_type": "text"
      },
      "source": [
        "<a href=\"https://colab.research.google.com/github/Ligialuccas/python_na_universidade/blob/master/aula5.ipynb\" target=\"_parent\"><img src=\"https://colab.research.google.com/assets/colab-badge.svg\" alt=\"Open In Colab\"/></a>"
      ]
    },
    {
      "cell_type": "markdown",
      "metadata": {
        "id": "ZmTu-mlmWW88"
      },
      "source": [
        "# 1.FUNÇÕES"
      ]
    },
    {
      "cell_type": "markdown",
      "metadata": {
        "id": "DwQJYJf6Weo6"
      },
      "source": [
        "# Nossa primeira função\n"
      ]
    },
    {
      "cell_type": "code",
      "execution_count": null,
      "metadata": {
        "colab": {
          "base_uri": "https://localhost:8080/"
        },
        "id": "GtCraNQrWovb",
        "outputId": "0ee78176-0e72-4863-e63b-9906f62050bf"
      },
      "outputs": [
        {
          "name": "stdout",
          "output_type": "stream",
          "text": [
            "| ____________________ |\n",
            "| ____________________ |\n",
            "          MENU\n",
            "| ____________________ |\n",
            "| ____________________ |\n"
          ]
        }
      ],
      "source": [
        "print('|','__' * 10,'|')\n",
        "print('|','__' * 10,'|')\n",
        "print('          MENU')\n",
        "print('|','__' * 10,'|')\n",
        "print('|','__' * 10,'|')"
      ]
    },
    {
      "cell_type": "markdown",
      "metadata": {
        "id": "b4PawF9_aQkn"
      },
      "source": [
        "Voltando..."
      ]
    },
    {
      "cell_type": "code",
      "execution_count": null,
      "metadata": {
        "id": "DJHZZNSRaS04"
      },
      "outputs": [],
      "source": [
        "#realce é o nome da função\n",
        "def realce():\n",
        "  #corpo da função\n",
        "  print('|','__' * 10,'|')\n",
        "  print('|','__' * 10,'|')"
      ]
    },
    {
      "cell_type": "code",
      "execution_count": null,
      "metadata": {
        "colab": {
          "base_uri": "https://localhost:8080/"
        },
        "id": "Jzmm4Xk7jOMK",
        "outputId": "3f9aa0ff-ae4e-4b76-a58f-3f8967e35cab"
      },
      "outputs": [
        {
          "name": "stdout",
          "output_type": "stream",
          "text": [
            "| ____________________ |\n",
            "| ____________________ |\n",
            "          MENU\n",
            "| ____________________ |\n",
            "| ____________________ |\n"
          ]
        }
      ],
      "source": [
        "#Programa principal\n",
        "realce()\n",
        "print('          MENU')\n",
        "realce()"
      ]
    },
    {
      "cell_type": "markdown",
      "metadata": {
        "id": "NZES5KkEnUt-"
      },
      "source": [
        "# 2.PARÂMETROS EM FUNÇÕES"
      ]
    },
    {
      "cell_type": "code",
      "execution_count": null,
      "metadata": {
        "id": "mEF6PNXGnbDz"
      },
      "outputs": [],
      "source": [
        "def realce(s1):\n",
        "  print('|','__' * 10,'|')\n",
        "  print('|','__' * 10,'|')\n",
        "  print(s1)\n",
        "  print('|','__' * 10,'|')\n",
        "  print('|','__' * 10,'|')"
      ]
    },
    {
      "cell_type": "code",
      "execution_count": null,
      "metadata": {
        "colab": {
          "base_uri": "https://localhost:8080/"
        },
        "id": "OO_bPbwOoHfD",
        "outputId": "c0ac6769-fec7-4b9d-af2a-40a676a322a6"
      },
      "outputs": [
        {
          "name": "stdout",
          "output_type": "stream",
          "text": [
            "| ____________________ |\n",
            "| ____________________ |\n",
            "         Ligia\n",
            "| ____________________ |\n",
            "| ____________________ |\n"
          ]
        }
      ],
      "source": [
        "#Programa principal\n",
        "realce('         Ligia')"
      ]
    },
    {
      "cell_type": "code",
      "execution_count": null,
      "metadata": {
        "colab": {
          "base_uri": "https://localhost:8080/"
        },
        "id": "ENKdj4B-or-7",
        "outputId": "9cd5dce3-d7ad-4884-abd8-7ed10d430709"
      },
      "outputs": [
        {
          "name": "stdout",
          "output_type": "stream",
          "text": [
            "-2\n"
          ]
        }
      ],
      "source": [
        "def sub2(x,y):\n",
        "  res = x - y\n",
        "  print(res)\n",
        "\n",
        "#programa principal\n",
        "sub2(5,7)"
      ]
    },
    {
      "cell_type": "code",
      "execution_count": null,
      "metadata": {
        "colab": {
          "base_uri": "https://localhost:8080/"
        },
        "id": "zbKE3XBmpuiG",
        "outputId": "aeb028dd-d1b5-445a-8f87-c0a21c951921"
      },
      "outputs": [
        {
          "name": "stdout",
          "output_type": "stream",
          "text": [
            "2\n"
          ]
        }
      ],
      "source": [
        "sub2(7,5)"
      ]
    },
    {
      "cell_type": "code",
      "execution_count": null,
      "metadata": {
        "colab": {
          "base_uri": "https://localhost:8080/"
        },
        "id": "SQ8CXu2ppyKV",
        "outputId": "ccfbf007-5502-47cb-cd0c-cbc878647ad3"
      },
      "outputs": [
        {
          "name": "stdout",
          "output_type": "stream",
          "text": [
            "-2\n"
          ]
        }
      ],
      "source": [
        "sub2(y = 7, x = 5)"
      ]
    },
    {
      "cell_type": "markdown",
      "metadata": {
        "id": "qWuzfDmKqzrz"
      },
      "source": [
        "# Parâmetros opcionais"
      ]
    },
    {
      "cell_type": "code",
      "execution_count": null,
      "metadata": {
        "id": "keKLxZzPq4xc"
      },
      "outputs": [],
      "source": [
        "def soma3(x, y, z):\n",
        "  res = x + y + z\n",
        "  print(res)"
      ]
    },
    {
      "cell_type": "code",
      "execution_count": null,
      "metadata": {
        "id": "9-fa48WOrTjO"
      },
      "outputs": [],
      "source": [
        "def soma3(x = 0, y = 0, z = 0):\n",
        "  res = x + y + z\n",
        "  print(res)"
      ]
    },
    {
      "cell_type": "code",
      "execution_count": null,
      "metadata": {
        "colab": {
          "base_uri": "https://localhost:8080/"
        },
        "id": "JwbfZ9XqrbXy",
        "outputId": "47efd422-bd87-4356-ea92-fdd81c483bd5"
      },
      "outputs": [
        {
          "name": "stdout",
          "output_type": "stream",
          "text": [
            "6\n",
            "3\n",
            "1\n",
            "0\n"
          ]
        }
      ],
      "source": [
        "soma3(1,2,3)\n",
        "soma3(1,2)#z foi omitido\n",
        "soma3(1)  #y e z foram omitidos\n",
        "soma3()   #x, y e z foram omitidos"
      ]
    },
    {
      "cell_type": "markdown",
      "metadata": {
        "id": "lTtjf7kjwJay"
      },
      "source": [
        "# Exercício"
      ]
    },
    {
      "cell_type": "markdown",
      "metadata": {
        "id": "LkzID1o4sZTR"
      },
      "source": [
        "Escreva uma rotina que crie uma borda ao redor de uma palavra para destacá-la como sendo um título.A rotina deve receber como parâmetro a palavra a ser destacada. O tamanho da caixa de texto deverá ser adaptavável de acordo com o tamanho da palavra."
      ]
    },
    {
      "cell_type": "code",
      "execution_count": null,
      "metadata": {
        "colab": {
          "base_uri": "https://localhost:8080/"
        },
        "id": "nFzv1kgAv_3g",
        "outputId": "a7be18db-0ea0-4d3c-e160-4882d9bc72d0"
      },
      "outputs": [
        {
          "name": "stdout",
          "output_type": "stream",
          "text": [
            "+ ----------- +\n",
            "| Olá, Mundo! |\n",
            "+ ----------- +\n",
            "+ ---------------------------------- +\n",
            "| Lógica de Programação e Algoritmos |\n",
            "+ ---------------------------------- +\n"
          ]
        }
      ],
      "source": [
        "def borda(s1):\n",
        "  tam = len(s1)\n",
        "  #só imprime caso exista algum caractere\n",
        "  if tam:\n",
        "    print('+','-' * tam, '+')\n",
        "    print ('|', s1, '|')\n",
        "    print('+','-' * tam, '+')\n",
        "\n",
        "#Programa Principal\n",
        "borda('Olá, Mundo!')\n",
        "borda('Lógica de Programação e Algoritmos')"
      ]
    },
    {
      "cell_type": "markdown",
      "metadata": {
        "id": "l24Pb3nz7KFr"
      },
      "source": [
        "# 3.ESCOPO DE VARIÁVEIS"
      ]
    },
    {
      "cell_type": "code",
      "execution_count": null,
      "metadata": {
        "colab": {
          "base_uri": "https://localhost:8080/"
        },
        "id": "TZ6EtjVl7PrG",
        "outputId": "ea26fa24-a2ae-4ec4-b496-8ef6ac9a9a64"
      },
      "outputs": [
        {
          "name": "stdout",
          "output_type": "stream",
          "text": [
            "12\n"
          ]
        }
      ],
      "source": [
        "def comida():\n",
        "  print(ovos)\n",
        "\n",
        "#Programa principal\n",
        "ovos = 12\n",
        "comida()"
      ]
    },
    {
      "cell_type": "code",
      "execution_count": null,
      "metadata": {
        "colab": {
          "base_uri": "https://localhost:8080/"
        },
        "id": "Lii_haMB8DM4",
        "outputId": "f5dfb5ce-060e-4b02-ed15-c5e78295c0c3"
      },
      "outputs": [
        {
          "name": "stdout",
          "output_type": "stream",
          "text": [
            "12\n"
          ]
        }
      ],
      "source": [
        "def comida():\n",
        "  ovos = 12\n",
        "  bacon()\n",
        "  print(ovos)\n",
        "\n",
        "def bacon():\n",
        "  ovos = 6\n",
        "\n",
        "#Programa principal\n",
        "comida()"
      ]
    },
    {
      "cell_type": "code",
      "execution_count": null,
      "metadata": {
        "colab": {
          "base_uri": "https://localhost:8080/"
        },
        "id": "2kShOnrt8764",
        "outputId": "9c78f2b0-324d-4ff8-c85f-0b8817c53d49"
      },
      "outputs": [
        {
          "name": "stdout",
          "output_type": "stream",
          "text": [
            "variável local de bacon\n",
            "variável local de comida\n",
            "variável local de bacon\n",
            "variável global\n"
          ]
        }
      ],
      "source": [
        "def comida():\n",
        "  ovos = 'variável local de comida'\n",
        "  print(ovos)\n",
        "\n",
        "def bacon():\n",
        "  ovos = 'variável local de bacon'\n",
        "  print (ovos)\n",
        "  comida()\n",
        "  print(ovos)\n",
        "\n",
        "#Programa principal\n",
        "ovos = 'variável global'\n",
        "bacon()\n",
        "print(ovos)"
      ]
    },
    {
      "cell_type": "markdown",
      "metadata": {
        "id": "mxfteRaH_iCf"
      },
      "source": [
        "# A Instrução global"
      ]
    },
    {
      "cell_type": "code",
      "execution_count": null,
      "metadata": {
        "colab": {
          "base_uri": "https://localhost:8080/"
        },
        "id": "kA7BS-1t_sFX",
        "outputId": "23edd5ca-ad10-4d92-ae97-1000209a9080"
      },
      "outputs": [
        {
          "name": "stdout",
          "output_type": "stream",
          "text": [
            "comida\n"
          ]
        }
      ],
      "source": [
        "def comida():\n",
        "  global ovos\n",
        "  ovos = 'comida'\n",
        "\n",
        "#Programa principal\n",
        "ovos = 'global'\n",
        "comida()\n",
        "print(ovos)"
      ]
    },
    {
      "cell_type": "markdown",
      "metadata": {
        "id": "rOZLqcSkByZ3"
      },
      "source": [
        "# 4.RETORNO DE VALORES EM FUNÇÕES"
      ]
    },
    {
      "cell_type": "code",
      "execution_count": null,
      "metadata": {
        "id": "v8FUBaG5B67H"
      },
      "outputs": [],
      "source": [
        "def soma3(x = 0, y = 0, z = 0):\n",
        "  res = x + y + z\n",
        "  return res"
      ]
    },
    {
      "cell_type": "code",
      "execution_count": null,
      "metadata": {
        "colab": {
          "background_save": true,
          "base_uri": "https://localhost:8080/"
        },
        "id": "gWiN6KCtCY_I",
        "outputId": "66267992-fc5b-4716-ed97-d8dd74f7e24f"
      },
      "outputs": [
        {
          "name": "stdout",
          "output_type": "stream",
          "text": [
            "6\n",
            "4\n"
          ]
        }
      ],
      "source": [
        "#Programa principal\n",
        "retornado = soma3(1,2,3)\n",
        "print(retornado)\n",
        "\n",
        "#forma alternativa simplificada\n",
        "print(soma3(2,2))"
      ]
    },
    {
      "cell_type": "code",
      "source": [
        "#Programa principal\n",
        "retornado1 = soma3(1,2,3)\n",
        "retornado2 = soma3(1,2)\n",
        "retornado3 = soma3()\n",
        "print('Somatórios: {}, {} e {}'.format(retornado1, retornado2, retornado3))"
      ],
      "metadata": {
        "colab": {
          "base_uri": "https://localhost:8080/"
        },
        "id": "4eWo_ORGC-uL",
        "outputId": "0ec0aed7-560a-4ac2-cde0-9f16dd8b16b4"
      },
      "execution_count": 21,
      "outputs": [
        {
          "output_type": "stream",
          "name": "stdout",
          "text": [
            "Somatórios: 6, 3 e 0\n"
          ]
        }
      ]
    },
    {
      "cell_type": "markdown",
      "source": [
        "# Exercício\n"
      ],
      "metadata": {
        "id": "RQdS83U5DvLR"
      }
    },
    {
      "cell_type": "markdown",
      "source": [
        "Escreva uma função para validar uma string.\n",
        "Essa função recebe como parâmetro a string,\n",
        "o número mínimo e máximo de caracteres.\n",
        "Retorne verdadeiro se o tamanho da string \n",
        "estiverentr os valores de mínimo e máximo,\n",
        "e falso, caso contrário"
      ],
      "metadata": {
        "id": "J5gLHhtpDzq-"
      }
    },
    {
      "cell_type": "code",
      "source": [
        "def valida_string(pergunta, min, max):\n",
        "  s1 = input(pergunta)\n",
        "  tam = len(s1)\n",
        "  while ((tam < min) or (tam > max)):\n",
        "    s1 = input(pergunta)\n",
        "    tam = len(s1)\n",
        "  return s1\n",
        "\n",
        "#Programa Principal\n",
        "x = valida_string('Digite uma string: ', 10, 30)\n",
        "print('Você digitou a string: {}. \\n Dado Válido. Encerrando o programa...'.format(x))"
      ],
      "metadata": {
        "colab": {
          "base_uri": "https://localhost:8080/"
        },
        "id": "hv1f-HvzEhKW",
        "outputId": "4ec64a3e-9740-4072-8a05-b7b3b8695fc6"
      },
      "execution_count": 23,
      "outputs": [
        {
          "output_type": "stream",
          "name": "stdout",
          "text": [
            "Digite uma string: teste\n",
            "Digite uma string: algoritmos\n",
            "Você digitou a string: algoritmos. \n",
            " Dado Válido. Encerrando o programa...\n"
          ]
        }
      ]
    },
    {
      "cell_type": "markdown",
      "source": [
        "# 5.RECURSOS AVANÇADOS COM FUNÇÕES"
      ],
      "metadata": {
        "id": "-J2l0H1JH1DH"
      }
    },
    {
      "cell_type": "markdown",
      "source": [
        "# Exceções e erros"
      ],
      "metadata": {
        "id": "Zo9jYbknH9De"
      }
    },
    {
      "cell_type": "code",
      "source": [
        "# Erro de sintaxe\n",
        "while True\n",
        "print('Olá, mundo')"
      ],
      "metadata": {
        "colab": {
          "base_uri": "https://localhost:8080/",
          "height": 130
        },
        "id": "RNfRS_UrIIPQ",
        "outputId": "43ed4292-e46a-46e1-dd1a-279931f6acd7"
      },
      "execution_count": 24,
      "outputs": [
        {
          "output_type": "error",
          "ename": "SyntaxError",
          "evalue": "ignored",
          "traceback": [
            "\u001b[0;36m  File \u001b[0;32m\"<ipython-input-24-718c93028f6d>\"\u001b[0;36m, line \u001b[0;32m2\u001b[0m\n\u001b[0;31m    while True\u001b[0m\n\u001b[0m              ^\u001b[0m\n\u001b[0;31mSyntaxError\u001b[0m\u001b[0;31m:\u001b[0m invalid syntax\n"
          ]
        }
      ]
    },
    {
      "cell_type": "markdown",
      "source": [
        "Voltando"
      ],
      "metadata": {
        "id": "DPJvebZEKN_n"
      }
    },
    {
      "cell_type": "code",
      "source": [
        "100 * (2/0)"
      ],
      "metadata": {
        "colab": {
          "base_uri": "https://localhost:8080/",
          "height": 165
        },
        "id": "loQ2fSL5KQ01",
        "outputId": "93272fbd-5ff7-4029-f7aa-e59cdd49bfd7"
      },
      "execution_count": 25,
      "outputs": [
        {
          "output_type": "error",
          "ename": "ZeroDivisionError",
          "evalue": "ignored",
          "traceback": [
            "\u001b[0;31m---------------------------------------------------------------------------\u001b[0m",
            "\u001b[0;31mZeroDivisionError\u001b[0m                         Traceback (most recent call last)",
            "\u001b[0;32m<ipython-input-25-4e7a140b10ca>\u001b[0m in \u001b[0;36m<module>\u001b[0;34m\u001b[0m\n\u001b[0;32m----> 1\u001b[0;31m \u001b[0;36m100\u001b[0m \u001b[0;34m*\u001b[0m \u001b[0;34m(\u001b[0m\u001b[0;36m2\u001b[0m\u001b[0;34m/\u001b[0m\u001b[0;36m0\u001b[0m\u001b[0;34m)\u001b[0m\u001b[0;34m\u001b[0m\u001b[0;34m\u001b[0m\u001b[0m\n\u001b[0m",
            "\u001b[0;31mZeroDivisionError\u001b[0m: division by zero"
          ]
        }
      ]
    },
    {
      "cell_type": "code",
      "source": [
        "x = int(input('Por favor digite um número: '))"
      ],
      "metadata": {
        "colab": {
          "base_uri": "https://localhost:8080/",
          "height": 182
        },
        "id": "EtEBJs3WKcgy",
        "outputId": "d46262ba-bac8-465c-f53d-e3043d0df349"
      },
      "execution_count": 26,
      "outputs": [
        {
          "name": "stdout",
          "output_type": "stream",
          "text": [
            "Por favor digite um número: m\n"
          ]
        },
        {
          "output_type": "error",
          "ename": "ValueError",
          "evalue": "ignored",
          "traceback": [
            "\u001b[0;31m---------------------------------------------------------------------------\u001b[0m",
            "\u001b[0;31mValueError\u001b[0m                                Traceback (most recent call last)",
            "\u001b[0;32m<ipython-input-26-7c0a6b59e0c9>\u001b[0m in \u001b[0;36m<module>\u001b[0;34m\u001b[0m\n\u001b[0;32m----> 1\u001b[0;31m \u001b[0mx\u001b[0m \u001b[0;34m=\u001b[0m \u001b[0mint\u001b[0m\u001b[0;34m(\u001b[0m\u001b[0minput\u001b[0m\u001b[0;34m(\u001b[0m\u001b[0;34m'Por favor digite um número: '\u001b[0m\u001b[0;34m)\u001b[0m\u001b[0;34m)\u001b[0m\u001b[0;34m\u001b[0m\u001b[0;34m\u001b[0m\u001b[0m\n\u001b[0m",
            "\u001b[0;31mValueError\u001b[0m: invalid literal for int() with base 10: 'm'"
          ]
        }
      ]
    },
    {
      "cell_type": "code",
      "source": [
        "while True:\n",
        "  try:\n",
        "    x = int(input('Por favor digite um número: '))\n",
        "    break\n",
        "  except ValueError:\n",
        "    print('Oops! Número inválido. Tente novamente...')"
      ],
      "metadata": {
        "colab": {
          "base_uri": "https://localhost:8080/"
        },
        "id": "PXf5fMRxKwd-",
        "outputId": "80c9be12-8345-418e-87f1-cf2f292b2055"
      },
      "execution_count": 27,
      "outputs": [
        {
          "name": "stdout",
          "output_type": "stream",
          "text": [
            "Por favor digite um número: p\n",
            "Oops! Número inválido. Tente novamente...\n",
            "Por favor digite um número: 5\n"
          ]
        }
      ]
    },
    {
      "cell_type": "code",
      "source": [
        "def div():\n",
        "  try:\n",
        "    num1 = int(input('digite um número: '))\n",
        "    num2 = int(input('digite um número: '))\n",
        "    res = num1 /num2\n",
        "  except ZeroDivisionError:\n",
        "    print('Oops! Erro de divisão por zero...')\n",
        "  except:\n",
        "    print('Algo de errado aconteceu...')\n",
        "  else:\n",
        "    return res\n",
        "  finally:\n",
        "    print('Executará sempre!')\n",
        "\n",
        "#Programa principal\n",
        "print(div())"
      ],
      "metadata": {
        "colab": {
          "base_uri": "https://localhost:8080/"
        },
        "id": "8f3uiaHGLq2o",
        "outputId": "2c90ac8f-405e-43bd-b210-d5b2ca757df4"
      },
      "execution_count": 29,
      "outputs": [
        {
          "output_type": "stream",
          "name": "stdout",
          "text": [
            "digite um número: 5\n",
            "digite um número: j\n",
            "Algo de errado aconteceu...\n",
            "Executará sempre!\n",
            "None\n"
          ]
        }
      ]
    },
    {
      "cell_type": "markdown",
      "source": [
        "# Função como parâmetro de função"
      ],
      "metadata": {
        "id": "jB5kiGVCOa4g"
      }
    },
    {
      "cell_type": "code",
      "source": [
        "def imprime_com_condicao(num, fcond):\n",
        "  if fcond(num):\n",
        "    print(num)\n",
        "\n",
        "def par(x):\n",
        "  return x % 2 == 0\n",
        "def impar(x):\n",
        "  return not par(x)\n",
        "\n",
        "#programa principal\n",
        "imprime_com_condicao(5,impar)\n",
        "imprime_com_condicao(4,par)"
      ],
      "metadata": {
        "colab": {
          "base_uri": "https://localhost:8080/"
        },
        "id": "9b5S_RbHOn_x",
        "outputId": "6d43ee32-cc9b-4d49-9b9a-80149d20cce4"
      },
      "execution_count": 32,
      "outputs": [
        {
          "output_type": "stream",
          "name": "stdout",
          "text": [
            "5\n",
            "4\n"
          ]
        }
      ]
    },
    {
      "cell_type": "markdown",
      "source": [
        "# Função lambda"
      ],
      "metadata": {
        "id": "rHQDi07CQmGT"
      }
    },
    {
      "cell_type": "code",
      "source": [
        "res = lambda x: x * x\n",
        "print(res(3))"
      ],
      "metadata": {
        "colab": {
          "base_uri": "https://localhost:8080/"
        },
        "id": "rnofOpvTQtr7",
        "outputId": "4cfacb1b-d7de-4384-b24b-c87ff76454bb"
      },
      "execution_count": 33,
      "outputs": [
        {
          "output_type": "stream",
          "name": "stdout",
          "text": [
            "9\n"
          ]
        }
      ]
    },
    {
      "cell_type": "code",
      "source": [
        "soma = lambda x, y: x + y\n",
        "print(soma(3,5))"
      ],
      "metadata": {
        "colab": {
          "base_uri": "https://localhost:8080/"
        },
        "id": "rdHLGQ5pQtzO",
        "outputId": "6fa6770b-9d5e-4417-806b-0ff30e7aa999"
      },
      "execution_count": 34,
      "outputs": [
        {
          "output_type": "stream",
          "name": "stdout",
          "text": [
            "8\n"
          ]
        }
      ]
    }
  ],
  "metadata": {
    "colab": {
      "toc_visible": true,
      "provenance": [],
      "authorship_tag": "ABX9TyOmMHAd3KfqIwHOcBpyFHb3",
      "include_colab_link": true
    },
    "kernelspec": {
      "display_name": "Python 3",
      "name": "python3"
    },
    "language_info": {
      "name": "python"
    }
  },
  "nbformat": 4,
  "nbformat_minor": 0
}