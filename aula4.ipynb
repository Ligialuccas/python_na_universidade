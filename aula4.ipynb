{
  "nbformat": 4,
  "nbformat_minor": 0,
  "metadata": {
    "colab": {
      "provenance": [],
      "toc_visible": true,
      "authorship_tag": "ABX9TyOQBhcZ0CbE70Uyo8h7Cc9I",
      "include_colab_link": true
    },
    "kernelspec": {
      "name": "python3",
      "display_name": "Python 3"
    },
    "language_info": {
      "name": "python"
    }
  },
  "cells": [
    {
      "cell_type": "markdown",
      "metadata": {
        "id": "view-in-github",
        "colab_type": "text"
      },
      "source": [
        "<a href=\"https://colab.research.google.com/github/Ligialuccas/python_na_universidade/blob/master/aula4.ipynb\" target=\"_parent\"><img src=\"https://colab.research.google.com/assets/colab-badge.svg\" alt=\"Open In Colab\"/></a>"
      ]
    },
    {
      "cell_type": "markdown",
      "source": [
        "#  1.ESTRUTURA DE REPETIÇÃO"
      ],
      "metadata": {
        "id": "5W-kF32ZyAUB"
      }
    },
    {
      "cell_type": "code",
      "source": [
        "print (1)\n",
        "print (2)\n",
        "print (3)\n",
        "print (4)\n",
        "print (5)"
      ],
      "metadata": {
        "colab": {
          "base_uri": "https://localhost:8080/"
        },
        "id": "4j05FeznyIy3",
        "outputId": "abe652d9-bd4e-4f1d-cbba-307801c3074b"
      },
      "execution_count": null,
      "outputs": [
        {
          "output_type": "stream",
          "name": "stdout",
          "text": [
            "1\n",
            "2\n",
            "3\n",
            "4\n",
            "5\n"
          ]
        }
      ]
    },
    {
      "cell_type": "code",
      "source": [
        "x = 1\n",
        "print(x)\n",
        "x = 2\n",
        "print(x)\n",
        "x = 3\n",
        "print(x)\n",
        "x = 4\n",
        "print(x)\n",
        "x = 5 \n",
        "print(x)"
      ],
      "metadata": {
        "colab": {
          "base_uri": "https://localhost:8080/"
        },
        "id": "IJQWaslIyXKi",
        "outputId": "83458f78-70a8-4895-daae-b4e6c9379d93"
      },
      "execution_count": null,
      "outputs": [
        {
          "output_type": "stream",
          "name": "stdout",
          "text": [
            "1\n",
            "2\n",
            "3\n",
            "4\n",
            "5\n"
          ]
        }
      ]
    },
    {
      "cell_type": "code",
      "source": [
        "x = 1 \n",
        "print(x)\n",
        "x = x + 1 \n",
        "print(x)\n",
        "x = x + 1 \n",
        "print(x)\n",
        "x = x + 1 \n",
        "print(x)\n",
        "x = x + 1 \n",
        "print(x)"
      ],
      "metadata": {
        "colab": {
          "base_uri": "https://localhost:8080/"
        },
        "id": "5eWhXBZPy029",
        "outputId": "6792d22d-7640-4f39-f405-77459f519367"
      },
      "execution_count": null,
      "outputs": [
        {
          "output_type": "stream",
          "name": "stdout",
          "text": [
            "1\n",
            "2\n",
            "3\n",
            "4\n",
            "5\n"
          ]
        }
      ]
    },
    {
      "cell_type": "markdown",
      "source": [
        "# 2.ESTRUTURA DE REPETIÇÃO WHILE (ENQUANTO)"
      ],
      "metadata": {
        "id": "h7Q85LeJ3z0q"
      }
    },
    {
      "cell_type": "code",
      "source": [
        "x = 1 \n",
        "while (x <= 5):\n",
        "  print(x)\n",
        "  x = x + 1"
      ],
      "metadata": {
        "colab": {
          "base_uri": "https://localhost:8080/"
        },
        "id": "gcmG8ytj37mt",
        "outputId": "425f69de-e12a-48b0-eb5b-fa2afd90ae19"
      },
      "execution_count": null,
      "outputs": [
        {
          "output_type": "stream",
          "name": "stdout",
          "text": [
            "1\n",
            "2\n",
            "3\n",
            "4\n",
            "5\n"
          ]
        }
      ]
    },
    {
      "cell_type": "code",
      "source": [
        "x = 1 \n",
        "while (x <= 5):\n",
        "  print(x)\n",
        "  # x = x + 1"
      ],
      "metadata": {
        "id": "8BtfXWfw4rfJ"
      },
      "execution_count": null,
      "outputs": []
    },
    {
      "cell_type": "markdown",
      "source": [
        "Voltando"
      ],
      "metadata": {
        "id": "OaGC4hnx6L1G"
      }
    },
    {
      "cell_type": "code",
      "source": [
        "x = 0\n",
        "while (x <= 99):\n",
        "  print(x)\n",
        "  x = x + 1"
      ],
      "metadata": {
        "id": "6i25mWfN6N7G"
      },
      "execution_count": null,
      "outputs": []
    },
    {
      "cell_type": "code",
      "source": [
        "x = 0\n",
        "while (x < 100):\n",
        "  print(x)\n",
        "  x = x + 1"
      ],
      "metadata": {
        "id": "SLTyKFm_67De"
      },
      "execution_count": null,
      "outputs": []
    },
    {
      "cell_type": "markdown",
      "source": [
        "# Contadores"
      ],
      "metadata": {
        "id": "vXCu100H8lAr"
      }
    },
    {
      "cell_type": "code",
      "source": [
        "inicial = int(input('Qual valor deseja iniciar a contagem? '))\n",
        "final =   int(input('Qual valor deseja iniciar a contagem? '))\n",
        "x = inicial\n",
        "while(x <= final):\n",
        "  if (x % 2 == 0):\n",
        "    print(x)\n",
        "  x = x +1"
      ],
      "metadata": {
        "colab": {
          "base_uri": "https://localhost:8080/"
        },
        "id": "Nl1gIcyo8n1O",
        "outputId": "ffeab8fd-0161-4d4f-e079-7067e01b2e62"
      },
      "execution_count": null,
      "outputs": [
        {
          "output_type": "stream",
          "name": "stdout",
          "text": [
            "Qual valor deseja iniciar a contagem? 5\n",
            "Qual valor deseja iniciar a contagem? 10\n",
            "6\n",
            "8\n",
            "10\n"
          ]
        }
      ]
    },
    {
      "cell_type": "markdown",
      "source": [
        "# Acumuladores"
      ],
      "metadata": {
        "id": "Ok_1pBpe98Kl"
      }
    },
    {
      "cell_type": "code",
      "source": [
        "soma = 0\n",
        "cont = 1\n",
        "while (cont <=5):\n",
        "  x = float(input('Digite a {}ª nota: '.format(cont)))\n",
        "  soma = soma + x\n",
        "  cont = cont + 1\n",
        "media = soma / 5\n",
        "print('Média final : {}'.format(media))\n"
      ],
      "metadata": {
        "colab": {
          "base_uri": "https://localhost:8080/"
        },
        "id": "USTT4hoT-Brs",
        "outputId": "d2818e40-268e-40b9-94a4-0f9f0cfc83f9"
      },
      "execution_count": null,
      "outputs": [
        {
          "output_type": "stream",
          "name": "stdout",
          "text": [
            "Digite a 1ª nota: 8.9\n",
            "Digite a 2ª nota: 7\n",
            "Digite a 3ª nota: 4.1\n",
            "Digite a 4ª nota: 6.8\n",
            "Digite a 5ª nota: 9\n",
            "Média final : 7.159999999999999\n"
          ]
        }
      ]
    },
    {
      "cell_type": "markdown",
      "source": [
        "# 3.CARACTERÍSTICAS E RECURSOS AVANÇADOS DE LAÇOS EM PYTHON"
      ],
      "metadata": {
        "id": "2oStSq7fCjIK"
      }
    },
    {
      "cell_type": "markdown",
      "source": [
        "# Opreadores especiais de atribuição"
      ],
      "metadata": {
        "id": "cOOYIao6CyRU"
      }
    },
    {
      "cell_type": "code",
      "source": [
        "soma = 0\n",
        "cont = 1\n",
        "while (cont <=5):\n",
        "  x = float(input('Digite a {}ª nota: '.format(cont)))\n",
        "  soma += x #Equivalente : soma = soma + x\n",
        "  cont += 1 #cont = cont + 1\n",
        "media = soma / 5\n",
        "print('Média final : {}'.format(media))"
      ],
      "metadata": {
        "id": "rw_dpItZC4yF"
      },
      "execution_count": null,
      "outputs": []
    },
    {
      "cell_type": "markdown",
      "source": [
        "# Validando dados de entrada com um loop"
      ],
      "metadata": {
        "id": "aawzStaaGv-D"
      }
    },
    {
      "cell_type": "code",
      "source": [
        "#validando a entrada\n",
        "x = int(input('Digite um valor maior do que zero: '))\n",
        "while (x <= 0):\n",
        "  x = int(input('Digite um valor maior do que zero: '))\n",
        "print ('Você digitou {}. Encerrando o programa...'.format(x))"
      ],
      "metadata": {
        "colab": {
          "base_uri": "https://localhost:8080/"
        },
        "id": "yhytJyecG8lK",
        "outputId": "051151ec-7283-4120-d969-03f2ab532dbf"
      },
      "execution_count": null,
      "outputs": [
        {
          "output_type": "stream",
          "name": "stdout",
          "text": [
            "Digite um valor maior do que zero: -5\n",
            "Digite um valor maior do que zero: 0\n",
            "Digite um valor maior do que zero: 5\n",
            "Você digitou 5. Encerrando o programa...\n"
          ]
        }
      ]
    },
    {
      "cell_type": "markdown",
      "source": [
        "# Interrompendo um loop com break"
      ],
      "metadata": {
        "id": "Fuht6O2dKmS-"
      }
    },
    {
      "cell_type": "code",
      "source": [
        "print('Digite uma mensagem que irei repetir para você!')\n",
        "print('Para encerrar escreva \"sair\".')\n",
        "while True:\n",
        "  texto = input('')\n",
        "  print(texto)\n",
        "  if texto == 'sair':\n",
        "    break\n",
        "print ('Encerrando o programa...')"
      ],
      "metadata": {
        "colab": {
          "base_uri": "https://localhost:8080/"
        },
        "id": "iqghhe10Kr3H",
        "outputId": "aea4b723-a57e-49d0-c0aa-4ae4c181b074"
      },
      "execution_count": null,
      "outputs": [
        {
          "output_type": "stream",
          "name": "stdout",
          "text": [
            "Digite uma mensagem que irei repetir para você!\n",
            "Para encerrar escreva \"sair\".\n",
            "sempre precisei de um pouco de atenção\n",
            "sempre precisei de um pouco de atenção\n",
            "acho que não  sei quem sou, so sei do que preciso\n",
            "acho que não  sei quem sou, so sei do que preciso\n",
            "sair\n",
            "sair\n",
            "Encerrando o programa...\n"
          ]
        }
      ]
    },
    {
      "cell_type": "markdown",
      "source": [
        "# Voltando ao início do laço com continue"
      ],
      "metadata": {
        "id": "Z21-3qGWNKHX"
      }
    },
    {
      "cell_type": "code",
      "source": [
        "while True:\n",
        "  nome = input('Qual seu nome?')\n",
        "  if (nome != 'Lenhadorzinho'):\n",
        "    continue\n",
        "  senha = input('Qual sua senha?')\n",
        "  if (senha == 'UnInTeR'):\n",
        "    break\n",
        "print('Acesso concedido.')"
      ],
      "metadata": {
        "colab": {
          "base_uri": "https://localhost:8080/"
        },
        "id": "pbOgWHUcNUHJ",
        "outputId": "af1a2e34-09b0-4ed6-9dc8-2fca625daf6e"
      },
      "execution_count": null,
      "outputs": [
        {
          "output_type": "stream",
          "name": "stdout",
          "text": [
            "Qual seu nome?Ligia\n",
            "Qual seu nome?Lenhadorzinho\n",
            "Qual sua senha?UnInTeR\n",
            "Acesso concedido.\n"
          ]
        }
      ]
    },
    {
      "cell_type": "markdown",
      "source": [
        "# Valores \"Truthy\" e \"Falsey\""
      ],
      "metadata": {
        "id": "1ZybEcNvijoA"
      }
    },
    {
      "cell_type": "code",
      "source": [
        "nome = ''\n",
        "while not nome:\n",
        "  nome = input ('Digite seu nome: ')\n",
        "valor = int(input('digite um número qualquer: '))\n",
        "if valor:\n",
        "  print('Você digitou um valor diferente de zero.')\n",
        "else: \n",
        "  print('Você digitou zero')"
      ],
      "metadata": {
        "colab": {
          "base_uri": "https://localhost:8080/"
        },
        "id": "B460rt9ris4U",
        "outputId": "3b1705b1-deaf-4a8e-ce2d-2e3fe9e5caf1"
      },
      "execution_count": null,
      "outputs": [
        {
          "output_type": "stream",
          "name": "stdout",
          "text": [
            "Digite seu nome: Ligia\n",
            "digite um número qualquer: 5\n",
            "Você digitou um valor diferente de zero.\n"
          ]
        }
      ]
    },
    {
      "cell_type": "markdown",
      "source": [
        "# 4.ESTRUTURA DE REPETIÇÃO FOR (PARA)"
      ],
      "metadata": {
        "id": "zNuS_RbuWJU5"
      }
    },
    {
      "cell_type": "code",
      "source": [
        "for i in range (6):\n",
        "  print(i)"
      ],
      "metadata": {
        "colab": {
          "base_uri": "https://localhost:8080/"
        },
        "id": "a-iYOmdFWSTX",
        "outputId": "ad9146cb-f8b9-4df7-90fd-edcf2060f30c"
      },
      "execution_count": 1,
      "outputs": [
        {
          "output_type": "stream",
          "name": "stdout",
          "text": [
            "0\n",
            "1\n",
            "2\n",
            "3\n",
            "4\n",
            "5\n"
          ]
        }
      ]
    },
    {
      "cell_type": "markdown",
      "source": [
        "Voltando..."
      ],
      "metadata": {
        "id": "KgcW_jtEasbN"
      }
    },
    {
      "cell_type": "code",
      "source": [
        "for i in range (1,6,1):\n",
        "  print(i)"
      ],
      "metadata": {
        "colab": {
          "base_uri": "https://localhost:8080/"
        },
        "id": "OsdIY8nGaw3g",
        "outputId": "e3fcb61d-f734-485c-b86e-302487d21497"
      },
      "execution_count": 2,
      "outputs": [
        {
          "output_type": "stream",
          "name": "stdout",
          "text": [
            "1\n",
            "2\n",
            "3\n",
            "4\n",
            "5\n"
          ]
        }
      ]
    },
    {
      "cell_type": "code",
      "source": [
        "for i in range (10,0,-2):\n",
        "  print(i)"
      ],
      "metadata": {
        "colab": {
          "base_uri": "https://localhost:8080/"
        },
        "id": "mZNZH4Ena_13",
        "outputId": "66908426-c723-463d-cfbf-ad7ccf136f79"
      },
      "execution_count": 3,
      "outputs": [
        {
          "output_type": "stream",
          "name": "stdout",
          "text": [
            "10\n",
            "8\n",
            "6\n",
            "4\n",
            "2\n"
          ]
        }
      ]
    },
    {
      "cell_type": "markdown",
      "source": [
        "# Exercício"
      ],
      "metadata": {
        "id": "Ajo31ZdnjtjO"
      }
    },
    {
      "cell_type": "markdown",
      "source": [
        "Escreva um algoritmo que calcule a média dos números pares de 1 até 100 (1 e 100 inclusos), implemente o laço usando for"
      ],
      "metadata": {
        "id": "6xw05h7hj0cL"
      }
    },
    {
      "cell_type": "code",
      "source": [
        "soma = 0\n",
        "qtd = 0\n",
        "for i in range(1,101):\n",
        "  if (i % 2 == 0):\n",
        "    soma += i\n",
        "    qtd += 1\n",
        "media = soma / qtd\n",
        "print('A média dos pares de 1 até 100 é: {}'.format(media)) "
      ],
      "metadata": {
        "colab": {
          "base_uri": "https://localhost:8080/"
        },
        "id": "PWsubEnDkNYR",
        "outputId": "f705bfd0-5977-4fd7-b78a-1998d552cc7a"
      },
      "execution_count": 8,
      "outputs": [
        {
          "output_type": "stream",
          "name": "stdout",
          "text": [
            "A média dos pares de 1 até 100 é: 51.0\n"
          ]
        }
      ]
    },
    {
      "cell_type": "markdown",
      "source": [
        "# 5.ESTRUTURAS DE REPETIÇÃO ANINHADAS"
      ],
      "metadata": {
        "id": "bIC0IWJmqC9p"
      }
    },
    {
      "cell_type": "markdown",
      "source": [
        "Escreva um algoritmo que calcule a tabuada de todos os números de 1 até 10, e, para cada número, vamos calcular a tabuada multiplicando-o pelo intervalo de 1 até 10"
      ],
      "metadata": {
        "id": "JJW8DGWZqE3m"
      }
    },
    {
      "cell_type": "code",
      "source": [
        "# 2 while\n",
        "tabuada = 1\n",
        "while tabuada <= 10:\n",
        "  print('TABUADA DO {}: '.format(tabuada))\n",
        "  i = 1\n",
        "  while i <= 10:\n",
        "    print('{} x {} = {}'.format(tabuada, i, tabuada * i))\n",
        "    i += 1\n",
        "  tabuada += 1"
      ],
      "metadata": {
        "id": "Phh6DxOTrQcU"
      },
      "execution_count": null,
      "outputs": []
    },
    {
      "cell_type": "code",
      "source": [
        "#2 for\n",
        "for tabuada in range(1, 11, 1):\n",
        "  print('TABUADA DO {}: '.format(tabuada))\n",
        "  for i in range(1, 11, 1):\n",
        "    print('{} x {} = {}'.format(tabuada, i, tabuada *i))\n"
      ],
      "metadata": {
        "id": "d6z1imn1wBfN"
      },
      "execution_count": null,
      "outputs": []
    },
    {
      "cell_type": "code",
      "source": [
        "#while + for\n",
        "tabuada = 1\n",
        "while tabuada <= 10:\n",
        "  print('TABUADA DO {}:'.format(tabuada))\n",
        "  for i in range(1, 11, 1):\n",
        "    print('{} x {} = {}'.format(tabuada, i, tabuada * i))\n",
        "  tabuada += 1"
      ],
      "metadata": {
        "id": "dR18aIVYxPgl"
      },
      "execution_count": null,
      "outputs": []
    }
  ]
}