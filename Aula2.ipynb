{
  "nbformat": 4,
  "nbformat_minor": 0,
  "metadata": {
    "colab": {
      "provenance": [],
      "authorship_tag": "ABX9TyPO5Eh6lI5j6lWKr5svjH5H",
      "include_colab_link": true
    },
    "kernelspec": {
      "name": "python3",
      "display_name": "Python 3"
    },
    "language_info": {
      "name": "python"
    }
  },
  "cells": [
    {
      "cell_type": "markdown",
      "metadata": {
        "id": "view-in-github",
        "colab_type": "text"
      },
      "source": [
        "<a href=\"https://colab.research.google.com/github/Ligialuccas/python_na_universidade/blob/master/Aula2.ipynb\" target=\"_parent\"><img src=\"https://colab.research.google.com/assets/colab-badge.svg\" alt=\"Open In Colab\"/></a>"
      ]
    },
    {
      "cell_type": "markdown",
      "source": [
        "**O** **Primeiro** **Programa**"
      ],
      "metadata": {
        "id": "oNsboJmmVs5F"
      }
    },
    {
      "cell_type": "markdown",
      "source": [
        "Olá, Mundo!"
      ],
      "metadata": {
        "id": "BiNLjbw1WD3H"
      }
    },
    {
      "cell_type": "code",
      "source": [
        "print ('Olá, Mundo!')"
      ],
      "metadata": {
        "colab": {
          "base_uri": "https://localhost:8080/"
        },
        "id": "hF1zDFbkV7PW",
        "outputId": "76a9efe4-ac4b-4de0-8984-5821e6da4490"
      },
      "execution_count": null,
      "outputs": [
        {
          "output_type": "stream",
          "name": "stdout",
          "text": [
            "Olá, Mundo!\n"
          ]
        }
      ]
    },
    {
      "cell_type": "code",
      "source": [
        "Print ('Olá, Mundo!')"
      ],
      "metadata": {
        "colab": {
          "base_uri": "https://localhost:8080/",
          "height": 165
        },
        "id": "WCxm7W_MWSFX",
        "outputId": "6fc8f138-b3a8-4b2e-f0ef-8af0b43fef19"
      },
      "execution_count": null,
      "outputs": [
        {
          "output_type": "error",
          "ename": "NameError",
          "evalue": "ignored",
          "traceback": [
            "\u001b[0;31m---------------------------------------------------------------------------\u001b[0m",
            "\u001b[0;31mNameError\u001b[0m                                 Traceback (most recent call last)",
            "\u001b[0;32m<ipython-input-3-623b299d9fd3>\u001b[0m in \u001b[0;36m<module>\u001b[0;34m\u001b[0m\n\u001b[0;32m----> 1\u001b[0;31m \u001b[0mPrint\u001b[0m \u001b[0;34m(\u001b[0m\u001b[0;34m'Olá, Mundo!'\u001b[0m\u001b[0;34m)\u001b[0m\u001b[0;34m\u001b[0m\u001b[0;34m\u001b[0m\u001b[0m\n\u001b[0m",
            "\u001b[0;31mNameError\u001b[0m: name 'Print' is not defined"
          ]
        }
      ]
    },
    {
      "cell_type": "markdown",
      "source": [
        "\n",
        "**2.Função de Saída**"
      ],
      "metadata": {
        "id": "uR4B1jCSb1Mc"
      }
    },
    {
      "cell_type": "markdown",
      "source": [
        "Podemos usar aspas duplas:"
      ],
      "metadata": {
        "id": "bg03X7gZcv7d"
      }
    },
    {
      "cell_type": "code",
      "source": [
        "print (\"Olá, Mundo!\")"
      ],
      "metadata": {
        "colab": {
          "base_uri": "https://localhost:8080/"
        },
        "id": "DRczsqPfc2Td",
        "outputId": "b68a0a4e-51ea-4c72-ece3-75f01a84572d"
      },
      "execution_count": null,
      "outputs": [
        {
          "output_type": "stream",
          "name": "stdout",
          "text": [
            "Olá, Mundo!\n"
          ]
        }
      ]
    },
    {
      "cell_type": "markdown",
      "source": [
        "Operações aritméticas:"
      ],
      "metadata": {
        "id": "49NDR3OWc-si"
      }
    },
    {
      "cell_type": "code",
      "source": [
        "print (2 + 3)"
      ],
      "metadata": {
        "colab": {
          "base_uri": "https://localhost:8080/"
        },
        "id": "kyG7QS6DdHhq",
        "outputId": "30d2f83a-dccc-4b34-d0f0-2fa035bc9903"
      },
      "execution_count": null,
      "outputs": [
        {
          "output_type": "stream",
          "name": "stdout",
          "text": [
            "5\n"
          ]
        }
      ]
    },
    {
      "cell_type": "markdown",
      "source": [
        "O que acontece aqui?"
      ],
      "metadata": {
        "id": "JBdripsSd-gH"
      }
    },
    {
      "cell_type": "code",
      "source": [
        "print ('2 + 3')"
      ],
      "metadata": {
        "colab": {
          "base_uri": "https://localhost:8080/"
        },
        "id": "UjCjGwsWeDiq",
        "outputId": "5b3f294c-15b1-432c-a33f-5e10d9351fe3"
      },
      "execution_count": null,
      "outputs": [
        {
          "output_type": "stream",
          "name": "stdout",
          "text": [
            "2 + 3\n"
          ]
        }
      ]
    },
    {
      "cell_type": "markdown",
      "source": [
        "E aqui? Acontece uma concatenação"
      ],
      "metadata": {
        "id": "6cH5Q9xheM4a"
      }
    },
    {
      "cell_type": "code",
      "source": [
        "print ('2' + '3')"
      ],
      "metadata": {
        "colab": {
          "base_uri": "https://localhost:8080/"
        },
        "id": "iqFt41jLeSPP",
        "outputId": "ce931301-1b2b-46d5-a680-95b9133f6eaa"
      },
      "execution_count": null,
      "outputs": [
        {
          "output_type": "stream",
          "name": "stdout",
          "text": [
            "23\n"
          ]
        }
      ]
    },
    {
      "cell_type": "markdown",
      "source": [
        "concatenando mensagens:"
      ],
      "metadata": {
        "id": "ACNIClvEesoQ"
      }
    },
    {
      "cell_type": "code",
      "source": [
        "print ('Olá,' +  'Mundo!')\n",
        "print ('Olá,' , 'mundo!')"
      ],
      "metadata": {
        "colab": {
          "base_uri": "https://localhost:8080/"
        },
        "id": "Azf-8u3Ze0QG",
        "outputId": "c31e8740-5adb-43e6-cb41-717a038a885d"
      },
      "execution_count": null,
      "outputs": [
        {
          "output_type": "stream",
          "name": "stdout",
          "text": [
            "Olá,Mundo!\n",
            "Olá, mundo!\n"
          ]
        }
      ]
    },
    {
      "cell_type": "markdown",
      "source": [
        "Concatenando mensagens e números:"
      ],
      "metadata": {
        "id": "A3rrVNbrfOOe"
      }
    },
    {
      "cell_type": "code",
      "source": [
        "print ('o resultado da soma de 2 + 3 é: ', 2 + 3)"
      ],
      "metadata": {
        "colab": {
          "base_uri": "https://localhost:8080/"
        },
        "id": "lT5JrrZ-fUjn",
        "outputId": "0dff52df-4057-4e7e-cbfc-cadc01e14ea3"
      },
      "execution_count": null,
      "outputs": [
        {
          "output_type": "stream",
          "name": "stdout",
          "text": [
            "o resultado da soma de 2 + 3 é:  5\n"
          ]
        }
      ]
    },
    {
      "cell_type": "markdown",
      "source": [
        "**Operadores e operações matemáticas** "
      ],
      "metadata": {
        "id": "MipsFg8AigaW"
      }
    },
    {
      "cell_type": "code",
      "source": [
        "print (10*(5+7)/4)"
      ],
      "metadata": {
        "colab": {
          "base_uri": "https://localhost:8080/"
        },
        "id": "ZqWaEmj6ixcF",
        "outputId": "e409c985-45d7-4932-b5b3-0bbbf3d0fd07"
      },
      "execution_count": null,
      "outputs": [
        {
          "output_type": "stream",
          "name": "stdout",
          "text": [
            "30.0\n"
          ]
        }
      ]
    },
    {
      "cell_type": "markdown",
      "source": [
        "Cuidado!!"
      ],
      "metadata": {
        "id": "aZtOrGy8jAdt"
      }
    },
    {
      "cell_type": "code",
      "source": [
        "print (10*(5+7/4))"
      ],
      "metadata": {
        "colab": {
          "base_uri": "https://localhost:8080/"
        },
        "id": "nC6yxOrdjCo-",
        "outputId": "c54d9d97-8830-4914-bcf5-e4399954fe8a"
      },
      "execution_count": null,
      "outputs": [
        {
          "output_type": "stream",
          "name": "stdout",
          "text": [
            "67.5\n"
          ]
        }
      ]
    },
    {
      "cell_type": "markdown",
      "source": [
        "**3.VARIÁVEIS, DADOS E SEUS TIPOS**"
      ],
      "metadata": {
        "id": "SENSbd26mFZc"
      }
    },
    {
      "cell_type": "code",
      "source": [
        "nota = 8.5\n",
        "disciplina = 'Lógica de Programação e Algoritmos'\n",
        "\n",
        "print(nota)\n",
        "print(disciplina)"
      ],
      "metadata": {
        "colab": {
          "base_uri": "https://localhost:8080/"
        },
        "id": "qjAzTetKmREG",
        "outputId": "b4ad3cd4-c38a-42ec-cc2e-1e191929f874"
      },
      "execution_count": null,
      "outputs": [
        {
          "output_type": "stream",
          "name": "stdout",
          "text": [
            "8.5\n",
            "Lógica de Programação e Algoritmos\n"
          ]
        }
      ]
    },
    {
      "cell_type": "code",
      "source": [
        "print ('Disciplina: ', disciplina, '. Nota:' , nota)"
      ],
      "metadata": {
        "colab": {
          "base_uri": "https://localhost:8080/"
        },
        "id": "zlzQ6qWgmsEp",
        "outputId": "0c13b21a-7082-4c5e-9c0d-72f4565f2e0d"
      },
      "execution_count": null,
      "outputs": [
        {
          "output_type": "stream",
          "name": "stdout",
          "text": [
            "Disciplina:  Lógica de Programação e Algoritmos . Nota: 8.5\n"
          ]
        }
      ]
    },
    {
      "cell_type": "markdown",
      "source": [
        "Variável lógica"
      ],
      "metadata": {
        "id": "fih7SjC_zoRh"
      }
    },
    {
      "cell_type": "code",
      "source": [
        "a = 1 #a recebe 1\n",
        "b = 5 #b recebe 5"
      ],
      "metadata": {
        "id": "qgFUVJ1SzvGm"
      },
      "execution_count": null,
      "outputs": []
    },
    {
      "cell_type": "code",
      "source": [
        "resposta = a == b\n",
        "print (resposta)"
      ],
      "metadata": {
        "colab": {
          "base_uri": "https://localhost:8080/"
        },
        "id": "OukwJDwCz7Az",
        "outputId": "8a9372f2-b42f-4f15-c176-e9f1449f7081"
      },
      "execution_count": null,
      "outputs": [
        {
          "output_type": "stream",
          "name": "stdout",
          "text": [
            "False\n"
          ]
        }
      ]
    },
    {
      "cell_type": "code",
      "source": [
        "resposta = a != b\n",
        "print (resposta)"
      ],
      "metadata": {
        "colab": {
          "base_uri": "https://localhost:8080/"
        },
        "id": "4AYjrDGQ0D47",
        "outputId": "a7c6c516-6458-4a30-b312-d8407d11abcd"
      },
      "execution_count": null,
      "outputs": [
        {
          "output_type": "stream",
          "name": "stdout",
          "text": [
            "True\n"
          ]
        }
      ]
    },
    {
      "cell_type": "markdown",
      "source": [
        "Variável string"
      ],
      "metadata": {
        "id": "3EyhfgS40ad8"
      }
    },
    {
      "cell_type": "code",
      "source": [
        "frase = 'Olá, mundo!'\n",
        "print (frase)"
      ],
      "metadata": {
        "colab": {
          "base_uri": "https://localhost:8080/"
        },
        "id": "4mNMiPRj0e3T",
        "outputId": "25a81be2-6ba6-49a7-c215-b11a8707f201"
      },
      "execution_count": null,
      "outputs": [
        {
          "output_type": "stream",
          "name": "stdout",
          "text": [
            "Olá, mundo!\n"
          ]
        }
      ]
    },
    {
      "cell_type": "markdown",
      "source": [
        "Acessando o índice:"
      ],
      "metadata": {
        "id": "6bA2aOD47qn-"
      }
    },
    {
      "cell_type": "code",
      "source": [
        "print(frase[0])"
      ],
      "metadata": {
        "colab": {
          "base_uri": "https://localhost:8080/"
        },
        "id": "fiNv1trj7z-q",
        "outputId": "654c882f-04ac-4b7f-e061-aa0db6917739"
      },
      "execution_count": null,
      "outputs": [
        {
          "output_type": "stream",
          "name": "stdout",
          "text": [
            "O\n"
          ]
        }
      ]
    },
    {
      "cell_type": "code",
      "source": [
        "print (frase[2])"
      ],
      "metadata": {
        "colab": {
          "base_uri": "https://localhost:8080/"
        },
        "id": "M7pGOwb976uG",
        "outputId": "2fbebc1c-de4b-4583-b060-1b0acf96ab8f"
      },
      "execution_count": null,
      "outputs": [
        {
          "output_type": "stream",
          "name": "stdout",
          "text": [
            "á\n"
          ]
        }
      ]
    },
    {
      "cell_type": "markdown",
      "source": [
        "**4. MANIPULAÇÕES AVANÇADAS COM STRINGS**"
      ],
      "metadata": {
        "id": "dOXMCGyB8Ezl"
      }
    },
    {
      "cell_type": "markdown",
      "source": [
        "Concatenação"
      ],
      "metadata": {
        "id": "Jnz7NtUO8St7"
      }
    },
    {
      "cell_type": "code",
      "source": [
        "s1 = 'Lógica de Programação'\n",
        "s1 =  s1 + ' e Algoritmos'\n",
        "print(s1)"
      ],
      "metadata": {
        "colab": {
          "base_uri": "https://localhost:8080/"
        },
        "id": "_Dac-SHHFxj4",
        "outputId": "8ebd8869-c3b6-4309-a8a4-dfbf73dd759c"
      },
      "execution_count": null,
      "outputs": [
        {
          "output_type": "stream",
          "name": "stdout",
          "text": [
            "Lógica de Programação e Algoritmos\n"
          ]
        }
      ]
    },
    {
      "cell_type": "markdown",
      "source": [
        "Repetindo strings na concatenação:"
      ],
      "metadata": {
        "id": "VFWxPDzRGh-4"
      }
    },
    {
      "cell_type": "code",
      "source": [
        "s1 = 'A' + '-' * 10 + 'B'\n",
        "print(s1)"
      ],
      "metadata": {
        "colab": {
          "base_uri": "https://localhost:8080/"
        },
        "id": "kf2cAGlSGl16",
        "outputId": "5e2e9bd5-2f43-4ea7-9d45-efd573da1bdd"
      },
      "execution_count": null,
      "outputs": [
        {
          "output_type": "stream",
          "name": "stdout",
          "text": [
            "A----------B\n"
          ]
        }
      ]
    },
    {
      "cell_type": "markdown",
      "source": [
        "**Composição**"
      ],
      "metadata": {
        "id": "CpoND-ApHEAP"
      }
    },
    {
      "cell_type": "code",
      "source": [
        "nota = 8.5\n",
        "s1 = 'Voçê tirou %f na disciplina de Algoritmos' % nota\n",
        "print(s1)"
      ],
      "metadata": {
        "colab": {
          "base_uri": "https://localhost:8080/"
        },
        "id": "PIal8pLLHMpq",
        "outputId": "9e8f30f6-3bdd-4083-9354-a5e547c842af"
      },
      "execution_count": null,
      "outputs": [
        {
          "output_type": "stream",
          "name": "stdout",
          "text": [
            "Voçê tirou 8.500000 na disciplina de Algoritmos\n"
          ]
        }
      ]
    },
    {
      "cell_type": "code",
      "source": [
        "nota = 8.5\n",
        "s1 = 'Voçê tirou %.2f na disciplina de Algoritmos' % nota\n",
        "print(s1)"
      ],
      "metadata": {
        "colab": {
          "base_uri": "https://localhost:8080/"
        },
        "id": "DldeqPfSIUNt",
        "outputId": "754db41b-9ff5-4478-bc5a-853c5ce658ba"
      },
      "execution_count": null,
      "outputs": [
        {
          "output_type": "stream",
          "name": "stdout",
          "text": [
            "Voçê tirou 8.50 na disciplina de Algoritmos\n"
          ]
        }
      ]
    },
    {
      "cell_type": "markdown",
      "source": [
        "Várias variáveis:"
      ],
      "metadata": {
        "id": "9RPkqW0EIboE"
      }
    },
    {
      "cell_type": "code",
      "source": [
        "nota = 8.5\n",
        "disciplina = 'Algoritmos'\n",
        "s1 = 'Você tirou %.2f na disciplina de %s' % (nota, disciplina)\n",
        "print(s1)"
      ],
      "metadata": {
        "colab": {
          "base_uri": "https://localhost:8080/"
        },
        "id": "Kgqz0hygIiCR",
        "outputId": "a19f8b44-5b5a-4748-ed4c-a1c881aa5fd7"
      },
      "execution_count": null,
      "outputs": [
        {
          "output_type": "stream",
          "name": "stdout",
          "text": [
            "Você tirou 8.50 na disciplina de Algoritmos\n"
          ]
        }
      ]
    },
    {
      "cell_type": "markdown",
      "source": [
        "Composição mais moderna:"
      ],
      "metadata": {
        "id": "iwWdqWFvJcpE"
      }
    },
    {
      "cell_type": "code",
      "source": [
        "nota = 8.5\n",
        "disciplina = 'Algoritmos'\n",
        "s1 = 'Você tirou {} na disciplina de {}' .format(nota, disciplina)\n",
        "print(s1)"
      ],
      "metadata": {
        "colab": {
          "base_uri": "https://localhost:8080/"
        },
        "id": "4LDk2z1GLPjf",
        "outputId": "d5d477ad-5bb1-4335-9e79-5c6898ddba16"
      },
      "execution_count": null,
      "outputs": [
        {
          "output_type": "stream",
          "name": "stdout",
          "text": [
            "Você tirou 8.5 na disciplina de Algoritmos\n"
          ]
        }
      ]
    },
    {
      "cell_type": "markdown",
      "source": [
        "**Fatiamento**"
      ],
      "metadata": {
        "id": "pjPGPUfmLrBX"
      }
    },
    {
      "cell_type": "code",
      "source": [
        "s1 = 'Lógica de Programação e Algoritmos'\n",
        "print(s1[0:6])"
      ],
      "metadata": {
        "colab": {
          "base_uri": "https://localhost:8080/"
        },
        "id": "SnZQK0uaLyGR",
        "outputId": "7145467f-e457-4997-e2a6-59442b7ee6d5"
      },
      "execution_count": null,
      "outputs": [
        {
          "output_type": "stream",
          "name": "stdout",
          "text": [
            "Lógica\n"
          ]
        }
      ]
    },
    {
      "cell_type": "code",
      "source": [
        "s1 = 'Lógica de Programação e Algoritmos'\n",
        "print(s1[24:34])"
      ],
      "metadata": {
        "colab": {
          "base_uri": "https://localhost:8080/"
        },
        "id": "A5dw2BCmMUzR",
        "outputId": "89b0c048-fbf5-45ec-e4d5-5c84f80748cb"
      },
      "execution_count": null,
      "outputs": [
        {
          "output_type": "stream",
          "name": "stdout",
          "text": [
            "Algoritmos\n"
          ]
        }
      ]
    },
    {
      "cell_type": "code",
      "source": [
        "s1 = 'Lógica de Programação e Algoritmos'\n",
        "print(s1[:6])"
      ],
      "metadata": {
        "colab": {
          "base_uri": "https://localhost:8080/"
        },
        "id": "mmRNATtVMfWV",
        "outputId": "552e682f-73dc-4ada-b9f7-1be44dfd92b9"
      },
      "execution_count": null,
      "outputs": [
        {
          "output_type": "stream",
          "name": "stdout",
          "text": [
            "Lógica\n"
          ]
        }
      ]
    },
    {
      "cell_type": "markdown",
      "source": [
        "Tamanho (length)"
      ],
      "metadata": {
        "id": "edxNSr0bMvww"
      }
    },
    {
      "cell_type": "code",
      "source": [
        "s1 = 'Lógica de Programação e Algoritmos'\n",
        "tamanho = len(s1)\n",
        "print(tamanho)"
      ],
      "metadata": {
        "colab": {
          "base_uri": "https://localhost:8080/"
        },
        "id": "a3AQ-ZXaM2Ga",
        "outputId": "ff0bc1b6-ca4d-40ba-f9a7-07562917847b"
      },
      "execution_count": null,
      "outputs": [
        {
          "output_type": "stream",
          "name": "stdout",
          "text": [
            "34\n"
          ]
        }
      ]
    },
    {
      "cell_type": "markdown",
      "source": [
        "**5. FUNÇÃO DE ENTRADA E FLUXO DE EXECUÇÃO DO PROGRAMA**"
      ],
      "metadata": {
        "id": "A7Nlx4v6VmK8"
      }
    },
    {
      "cell_type": "markdown",
      "source": [
        "Função de entrada"
      ],
      "metadata": {
        "id": "WWInKa71VyAV"
      }
    },
    {
      "cell_type": "code",
      "source": [
        "idade = input('Qual sua idade?')\n",
        "print(idade)"
      ],
      "metadata": {
        "colab": {
          "base_uri": "https://localhost:8080/"
        },
        "id": "vGZ9sjYTV4CI",
        "outputId": "b7037952-fe58-4920-b59d-316239e22825"
      },
      "execution_count": null,
      "outputs": [
        {
          "output_type": "stream",
          "name": "stdout",
          "text": [
            "Qual sua idade?35\n",
            "35\n"
          ]
        }
      ]
    },
    {
      "cell_type": "code",
      "source": [
        "nome = input('Qual seu nome? ')\n",
        "print('olá {}, seja bem-vindo(a)!'.format(nome))"
      ],
      "metadata": {
        "colab": {
          "base_uri": "https://localhost:8080/"
        },
        "id": "vzxEF416WG2E",
        "outputId": "be24e1b3-6cc2-4bd1-b412-a353d6417220"
      },
      "execution_count": null,
      "outputs": [
        {
          "output_type": "stream",
          "name": "stdout",
          "text": [
            "Qual seu nome? Ligia\n",
            "olá Ligia, seja bem-vindo(a)!\n"
          ]
        }
      ]
    },
    {
      "cell_type": "markdown",
      "source": [
        "Convertendo dados de entrada"
      ],
      "metadata": {
        "id": "K_SGD0nCWuGC"
      }
    },
    {
      "cell_type": "code",
      "source": [
        "nota = float(input('Qual nota você recebeu na disciplina? '))\n",
        "print('Você tirou nota {}'.format(nota))"
      ],
      "metadata": {
        "colab": {
          "base_uri": "https://localhost:8080/"
        },
        "id": "5xLxcnDSWw_8",
        "outputId": "23ae067f-51c2-4f8c-809d-f15828f933c5"
      },
      "execution_count": null,
      "outputs": [
        {
          "output_type": "stream",
          "name": "stdout",
          "text": [
            "Qual nota você recebeu na disciplina? 10\n",
            "Você tirou nota 10.0\n"
          ]
        }
      ]
    },
    {
      "cell_type": "markdown",
      "source": [
        "**Exercício**"
      ],
      "metadata": {
        "id": "Htf9CAEUaS6M"
      }
    },
    {
      "cell_type": "markdown",
      "source": [
        "Desenvolva um algoritmo que solicite ao usuário dois números inteiros. Imprima a soma destes dois números na tela."
      ],
      "metadata": {
        "id": "3CMW2uvEaY0J"
      }
    },
    {
      "cell_type": "code",
      "source": [
        "#Exercício 2.1\n",
        "x = int(input('Digite um número inteiro: '))\n",
        "y = int(input('Digite outro número inteiro: '))\n",
        "#Maneira Clássica\n",
        "res = 'O resultado da soma de %i com %i é %i.' %(x, y, x + y)\n",
        "print(res)\n",
        "#Maneira Moderna\n",
        "res = 'O resultado da soma de {} com {} é {}.' .format(x, y, x + y)\n",
        "print(res)\n"
      ],
      "metadata": {
        "colab": {
          "base_uri": "https://localhost:8080/"
        },
        "id": "4Z3tOFZKamle",
        "outputId": "1d97bed6-a36f-4017-a96d-263a29d37ba3"
      },
      "execution_count": null,
      "outputs": [
        {
          "output_type": "stream",
          "name": "stdout",
          "text": [
            "Digite um número inteiro: 5\n",
            "Digite outro número inteiro: 3\n",
            "O resultado da soma de 5 com 3 é 8.\n",
            "O resultado da soma de 5 com 3 é 8.\n"
          ]
        }
      ]
    }
  ]
}