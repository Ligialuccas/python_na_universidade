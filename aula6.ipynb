{
  "nbformat": 4,
  "nbformat_minor": 0,
  "metadata": {
    "colab": {
      "provenance": [],
      "toc_visible": true,
      "authorship_tag": "ABX9TyNa8LEVfDAPUjNiib1zn/lK",
      "include_colab_link": true
    },
    "kernelspec": {
      "name": "python3",
      "display_name": "Python 3"
    },
    "language_info": {
      "name": "python"
    }
  },
  "cells": [
    {
      "cell_type": "markdown",
      "metadata": {
        "id": "view-in-github",
        "colab_type": "text"
      },
      "source": [
        "<a href=\"https://colab.research.google.com/github/Ligialuccas/python_na_universidade/blob/master/aula6.ipynb\" target=\"_parent\"><img src=\"https://colab.research.google.com/assets/colab-badge.svg\" alt=\"Open In Colab\"/></a>"
      ]
    },
    {
      "cell_type": "markdown",
      "source": [
        "# 1.TUPLAS"
      ],
      "metadata": {
        "id": "yzKDeB40EA9T"
      }
    },
    {
      "cell_type": "markdown",
      "source": [
        "# Construindo e manipulando Tuplas"
      ],
      "metadata": {
        "id": "-14t_3YO5Wia"
      }
    },
    {
      "cell_type": "code",
      "source": [
        "mochila = ('Machado', 'Camisa', 'Bacon', 'Abacate')\n",
        "print (mochila)"
      ],
      "metadata": {
        "colab": {
          "base_uri": "https://localhost:8080/"
        },
        "id": "a5G5djzZ5v9H",
        "outputId": "211a68cc-fd76-4960-b294-740a131bd794"
      },
      "execution_count": 1,
      "outputs": [
        {
          "output_type": "stream",
          "name": "stdout",
          "text": [
            "('Machado', 'Camisa', 'Bacon', 'Abacate')\n"
          ]
        }
      ]
    },
    {
      "cell_type": "code",
      "source": [
        "print(mochila[0]) #print do Elemento 1 - Índice 0\n",
        "print(mochila[2]) #print do Elemento 3 - Índice 2\n",
        "print(mochila[0:2]) #print dos Elementos 1 e 2  - Índice o e 1\n",
        "print(mochila[2:]) #print dos Elementos a partir do Índice 2\n",
        "print(mochila[-1]) #print do último"
      ],
      "metadata": {
        "colab": {
          "base_uri": "https://localhost:8080/"
        },
        "id": "1RDihNAM6ceI",
        "outputId": "0dd6aa81-f1fa-4709-a87b-d6ae2457e9fc"
      },
      "execution_count": 2,
      "outputs": [
        {
          "output_type": "stream",
          "name": "stdout",
          "text": [
            "Machado\n",
            "Bacon\n",
            "('Machado', 'Camisa')\n",
            "('Bacon', 'Abacate')\n",
            "Abacate\n"
          ]
        }
      ]
    },
    {
      "cell_type": "code",
      "source": [
        "mochila[2] = 'Ovos'"
      ],
      "metadata": {
        "id": "FLZSgTYl7uZL"
      },
      "execution_count": null,
      "outputs": []
    },
    {
      "cell_type": "code",
      "source": [
        "for item in mochila:\n",
        "  print('Na minha mochila tem: {}'.format(item))"
      ],
      "metadata": {
        "colab": {
          "base_uri": "https://localhost:8080/"
        },
        "id": "Br_iWNK18Dgd",
        "outputId": "a0a019d8-b71c-4832-9625-a0274124e7ba"
      },
      "execution_count": 4,
      "outputs": [
        {
          "output_type": "stream",
          "name": "stdout",
          "text": [
            "Na minha mochila tem: Machado\n",
            "Na minha mochila tem: Camisa\n",
            "Na minha mochila tem: Bacon\n",
            "Na minha mochila tem: Abacate\n"
          ]
        }
      ]
    },
    {
      "cell_type": "code",
      "source": [
        "tam = len(mochila)\n",
        "for i in range (0, tam, 1):\n",
        "  print('Na minha mochila tem: {}'.format(mochila[i]))"
      ],
      "metadata": {
        "colab": {
          "base_uri": "https://localhost:8080/"
        },
        "id": "6aFy6t0G8y-U",
        "outputId": "2141c6b4-c81d-4b79-852e-91e98f7394fb"
      },
      "execution_count": 5,
      "outputs": [
        {
          "output_type": "stream",
          "name": "stdout",
          "text": [
            "Na minha mochila tem: Machado\n",
            "Na minha mochila tem: Camisa\n",
            "Na minha mochila tem: Bacon\n",
            "Na minha mochila tem: Abacate\n"
          ]
        }
      ]
    },
    {
      "cell_type": "code",
      "source": [
        "mochila = ('Machado', 'Camisa', 'Bacon', 'Abacate')\n",
        "upgrade = ('queijo', 'Canivete')\n",
        "mochila_grande = mochila + upgrade\n",
        "\n",
        "print(mochila)\n",
        "print(upgrade)\n",
        "print(mochila_grande)"
      ],
      "metadata": {
        "colab": {
          "base_uri": "https://localhost:8080/"
        },
        "id": "I7hvJyZp9jMv",
        "outputId": "14af2541-788b-4d5c-8de5-090b119eee9d"
      },
      "execution_count": 6,
      "outputs": [
        {
          "output_type": "stream",
          "name": "stdout",
          "text": [
            "('Machado', 'Camisa', 'Bacon', 'Abacate')\n",
            "('queijo', 'Canivete')\n",
            "('Machado', 'Camisa', 'Bacon', 'Abacate', 'queijo', 'Canivete')\n"
          ]
        }
      ]
    },
    {
      "cell_type": "code",
      "source": [
        "mochila_grande_invertida = upgrade + mochila\n",
        "print(mochila_grande)\n",
        "print(mochila_grande_invertida)"
      ],
      "metadata": {
        "colab": {
          "base_uri": "https://localhost:8080/"
        },
        "id": "_oXampUx-YRy",
        "outputId": "1eed152e-c9af-46ed-b567-21f86a2ae3e2"
      },
      "execution_count": 7,
      "outputs": [
        {
          "output_type": "stream",
          "name": "stdout",
          "text": [
            "('Machado', 'Camisa', 'Bacon', 'Abacate', 'queijo', 'Canivete')\n",
            "('queijo', 'Canivete', 'Machado', 'Camisa', 'Bacon', 'Abacate')\n"
          ]
        }
      ]
    },
    {
      "cell_type": "markdown",
      "source": [
        "# Desenpacotamento de parârametros em funções"
      ],
      "metadata": {
        "id": "swVGeOpCBK9e"
      }
    },
    {
      "cell_type": "code",
      "source": [
        "def soma (*num): # este * significa desempacotamento\n",
        "  soma = 0\n",
        "  print('tupla: {}'.format(num))\n",
        "  for i in num:\n",
        "    soma += i\n",
        "  return soma\n",
        "\n",
        "#programa principal\n",
        "print('Resultado:{}\\n'.format(soma(1,2)))\n",
        "print('Resultado:{}\\n'.format(soma(1,2,3,4,5,6,7,8,9)))"
      ],
      "metadata": {
        "colab": {
          "base_uri": "https://localhost:8080/"
        },
        "id": "rTMgRyt3BYnS",
        "outputId": "64552c50-d585-43f8-fa69-21363393e25c"
      },
      "execution_count": 9,
      "outputs": [
        {
          "output_type": "stream",
          "name": "stdout",
          "text": [
            "tupla: (1, 2)\n",
            "Resultado:3\n",
            "\n",
            "tupla: (1, 2, 3, 4, 5, 6, 7, 8, 9)\n",
            "Resultado:45\n",
            "\n"
          ]
        }
      ]
    },
    {
      "cell_type": "markdown",
      "source": [
        "# 2.LISTAS"
      ],
      "metadata": {
        "id": "F9N69lZbELIB"
      }
    },
    {
      "cell_type": "code",
      "source": [
        "mochila = ('machado','Camisa','Bacon','Abacate')\n",
        "print('tupla: ',mochila)\n",
        "mochila = ['machado','Camisa','Bacon','Abacate']\n",
        "print('Lista: ',mochila)"
      ],
      "metadata": {
        "colab": {
          "base_uri": "https://localhost:8080/"
        },
        "id": "FhpQpd5MEeRp",
        "outputId": "0fa1b7bb-e72d-489d-9528-09110de519cb"
      },
      "execution_count": 14,
      "outputs": [
        {
          "output_type": "stream",
          "name": "stdout",
          "text": [
            "tupla:  ('machado', 'Camisa', 'Bacon', 'Abacate')\n",
            "Lista:  ['machado', 'Camisa', 'Bacon', 'Abacate']\n"
          ]
        }
      ]
    },
    {
      "cell_type": "code",
      "source": [
        "mochila[2] = 'Laranja'\n",
        "print('Lista: ',mochila)"
      ],
      "metadata": {
        "colab": {
          "base_uri": "https://localhost:8080/"
        },
        "id": "VKzKqx_MFlJj",
        "outputId": "3c67e7c4-e8ca-41b1-d67e-11275a219ca0"
      },
      "execution_count": 15,
      "outputs": [
        {
          "output_type": "stream",
          "name": "stdout",
          "text": [
            "Lista:  ['machado', 'Camisa', 'Laranja', 'Abacate']\n"
          ]
        }
      ]
    },
    {
      "cell_type": "markdown",
      "source": [
        "# Manipulando listas"
      ],
      "metadata": {
        "id": "nBr424bFF0sc"
      }
    },
    {
      "cell_type": "code",
      "source": [
        "mochila.append('Ovos') #append acrescenta itens no final da lista\n",
        "print('Lista: ',mochila)"
      ],
      "metadata": {
        "colab": {
          "base_uri": "https://localhost:8080/"
        },
        "id": "zU1q_PqPF58X",
        "outputId": "0a90323c-f21e-481e-ddbb-9c97a23ce356"
      },
      "execution_count": 16,
      "outputs": [
        {
          "output_type": "stream",
          "name": "stdout",
          "text": [
            "Lista:  ['machado', 'Camisa', 'Laranja', 'Abacate', 'Ovos']\n"
          ]
        }
      ]
    },
    {
      "cell_type": "code",
      "source": [
        "mochila.insert(1,'Canivete') #insert insere um item em uma determinada posição na lista\n",
        "print('Lista: ',mochila)"
      ],
      "metadata": {
        "colab": {
          "base_uri": "https://localhost:8080/"
        },
        "id": "j54uQfbCGNiG",
        "outputId": "ea7f5e4d-795c-4fff-f1cd-06a1e74fa823"
      },
      "execution_count": 17,
      "outputs": [
        {
          "output_type": "stream",
          "name": "stdout",
          "text": [
            "Lista:  ['machado', 'Canivete', 'Camisa', 'Laranja', 'Abacate', 'Ovos']\n"
          ]
        }
      ]
    },
    {
      "cell_type": "code",
      "source": [
        "del mochila[1] #del deleta pelo índice \n",
        "print('Lista: ',mochila)\n"
      ],
      "metadata": {
        "colab": {
          "base_uri": "https://localhost:8080/"
        },
        "id": "Nvm_ZsPPGYr_",
        "outputId": "942e7f1f-72d7-498e-abd0-03597bf9654d"
      },
      "execution_count": 19,
      "outputs": [
        {
          "output_type": "stream",
          "name": "stdout",
          "text": [
            "Lista:  ['machado', 'Laranja', 'Abacate', 'Ovos']\n"
          ]
        }
      ]
    },
    {
      "cell_type": "code",
      "source": [
        "mochila.remove('Ovos') #remove pelo valor explícito \n",
        "print('Lista: ',mochila)"
      ],
      "metadata": {
        "colab": {
          "base_uri": "https://localhost:8080/"
        },
        "id": "ctBk8CE9ICz6",
        "outputId": "4ef6ba10-e207-4081-c946-39404b8161a1"
      },
      "execution_count": 21,
      "outputs": [
        {
          "output_type": "stream",
          "name": "stdout",
          "text": [
            "Lista:  ['machado', 'Laranja', 'Abacate']\n"
          ]
        }
      ]
    },
    {
      "cell_type": "markdown",
      "source": [
        "# Cópia de listas"
      ],
      "metadata": {
        "id": "Z4Y7qSxnITwo"
      }
    },
    {
      "cell_type": "code",
      "source": [
        "#mesma referência \n",
        "x = [5,7,9,11]\n",
        "y = x\n",
        "print(x)\n",
        "print(y)"
      ],
      "metadata": {
        "colab": {
          "base_uri": "https://localhost:8080/"
        },
        "id": "tN5GwRVwImXG",
        "outputId": "e69a1a3e-746e-418b-e80a-a7569bd6d364"
      },
      "execution_count": 22,
      "outputs": [
        {
          "output_type": "stream",
          "name": "stdout",
          "text": [
            "[5, 7, 9, 11]\n",
            "[5, 7, 9, 11]\n"
          ]
        }
      ]
    },
    {
      "cell_type": "code",
      "source": [
        "y [0] = 2\n",
        "print(x)\n",
        "print(y)"
      ],
      "metadata": {
        "colab": {
          "base_uri": "https://localhost:8080/"
        },
        "id": "iB9UX73NI6xc",
        "outputId": "db7c42cc-e001-4357-f7cd-5751b1167453"
      },
      "execution_count": 23,
      "outputs": [
        {
          "output_type": "stream",
          "name": "stdout",
          "text": [
            "[2, 7, 9, 11]\n",
            "[2, 7, 9, 11]\n"
          ]
        }
      ]
    },
    {
      "cell_type": "code",
      "source": [
        "#cópia\n",
        "x = [5,7,9,11]\n",
        "y = x[:]\n",
        "print(x)\n",
        "print(y)"
      ],
      "metadata": {
        "colab": {
          "base_uri": "https://localhost:8080/"
        },
        "id": "GqAvyB7zJFVY",
        "outputId": "35adde81-d664-4f93-e1c0-50f87b6fe7ac"
      },
      "execution_count": 24,
      "outputs": [
        {
          "output_type": "stream",
          "name": "stdout",
          "text": [
            "[5, 7, 9, 11]\n",
            "[5, 7, 9, 11]\n"
          ]
        }
      ]
    },
    {
      "cell_type": "code",
      "source": [
        "y [0] = 2\n",
        "print(x)\n",
        "print(y)"
      ],
      "metadata": {
        "colab": {
          "base_uri": "https://localhost:8080/"
        },
        "id": "GnXM4Bp-JfkD",
        "outputId": "a9403063-1b0c-4ebe-de8d-1a9c3b600b78"
      },
      "execution_count": 25,
      "outputs": [
        {
          "output_type": "stream",
          "name": "stdout",
          "text": [
            "[5, 7, 9, 11]\n",
            "[2, 7, 9, 11]\n"
          ]
        }
      ]
    },
    {
      "cell_type": "markdown",
      "source": [
        "# 3.STRINGS E LISTAS DENTRO DE LISTAS"
      ],
      "metadata": {
        "id": "zycfqoXYJoGp"
      }
    },
    {
      "cell_type": "code",
      "source": [
        "mochila = ['Machado', 'Camisa', 'Bacon', 'Abacate']\n",
        "print(mochila[0])"
      ],
      "metadata": {
        "colab": {
          "base_uri": "https://localhost:8080/"
        },
        "id": "PdmHYPgBJuI9",
        "outputId": "c950fb73-3343-4f7a-b7a9-c81d88839205"
      },
      "execution_count": 26,
      "outputs": [
        {
          "output_type": "stream",
          "name": "stdout",
          "text": [
            "Machado\n"
          ]
        }
      ]
    },
    {
      "cell_type": "code",
      "source": [
        "mochila = ['Machado', 'Camisa', 'Bacon', 'Abacate']\n",
        "print(mochila[0][0])\n",
        "print(mochila[2][1])"
      ],
      "metadata": {
        "colab": {
          "base_uri": "https://localhost:8080/"
        },
        "id": "zl9RXeX1cpBZ",
        "outputId": "8958fe28-dfb8-46b8-b9a5-70204ae9bdc2"
      },
      "execution_count": 27,
      "outputs": [
        {
          "output_type": "stream",
          "name": "stdout",
          "text": [
            "M\n",
            "a\n"
          ]
        }
      ]
    },
    {
      "cell_type": "code",
      "source": [
        "mochila = ['Machado', 'Camisa', 'Bacon', 'Abacate']\n",
        "for item in mochila:\n",
        "  for letra in item:\n",
        "    print(letra, end='')\n",
        "  print()"
      ],
      "metadata": {
        "colab": {
          "base_uri": "https://localhost:8080/"
        },
        "id": "i4zALFc8c7h1",
        "outputId": "a86d90a5-cf40-4a2e-fb05-7e0d0d87e5fd"
      },
      "execution_count": 28,
      "outputs": [
        {
          "output_type": "stream",
          "name": "stdout",
          "text": [
            "Machado\n",
            "Camisa\n",
            "Bacon\n",
            "Abacate\n"
          ]
        }
      ]
    },
    {
      "cell_type": "code",
      "source": [
        "mochila = ['Machado', 'Camisa', 'Bacon', 'Abacate']\n",
        "for i in range(0,len(mochila),1):\n",
        "  for j in range(0,len(mochila[i]),1):\n",
        "    print(mochila[i][j], end='')\n",
        "  print()"
      ],
      "metadata": {
        "colab": {
          "base_uri": "https://localhost:8080/"
        },
        "id": "f3AU7xWNeLT3",
        "outputId": "37ac588d-c866-489c-e20d-1acf234eedb1"
      },
      "execution_count": 29,
      "outputs": [
        {
          "output_type": "stream",
          "name": "stdout",
          "text": [
            "Machado\n",
            "Camisa\n",
            "Bacon\n",
            "Abacate\n"
          ]
        }
      ]
    },
    {
      "cell_type": "markdown",
      "source": [
        "Voltando..."
      ],
      "metadata": {
        "id": "AF9S1nx3f-7A"
      }
    },
    {
      "cell_type": "markdown",
      "source": [
        "Imagine uma situação na qual você deve realizar o cadastro de uma lista de compras em um sistema. Cada produto comprado deverá ser registrado com seu nome, quantidade e valor unitário"
      ],
      "metadata": {
        "id": "YfMYbHXdkBct"
      }
    },
    {
      "cell_type": "code",
      "source": [
        "item = []\n",
        "mercado = []\n",
        "\n",
        "for i in range(3):\n",
        "  item.append(input('Digite o nome do item: '))\n",
        "  item.append(int(input('Digite a quantidade: ')))\n",
        "  item.append(float(input('Digite o valor: ')))\n",
        "  mercado.append(item[:])\n",
        "  item.clear()\n",
        "print(mercado)"
      ],
      "metadata": {
        "colab": {
          "base_uri": "https://localhost:8080/"
        },
        "id": "pJ8gZHk8gApq",
        "outputId": "0ee80152-d732-45b8-aaae-e1422dfd786f"
      },
      "execution_count": 31,
      "outputs": [
        {
          "output_type": "stream",
          "name": "stdout",
          "text": [
            "Digite o nome do item: Cebola\n",
            "Digite a quantidade: 2\n",
            "Digite o valor: 0.58\n",
            "Digite o nome do item: Tomate\n",
            "Digite a quantidade: 3\n",
            "Digite o valor: 0.48\n",
            "Digite o nome do item: Alface\n",
            "Digite a quantidade: 1\n",
            "Digite o valor: 2\n",
            "[['Cebola', 2, 0.58], ['Tomate', 3, 0.48], ['Alface', 1, 2.0]]\n"
          ]
        }
      ]
    },
    {
      "cell_type": "code",
      "source": [
        "mercado = []\n",
        "\n",
        "for i in range(3):\n",
        "  nome = input('Digite o nome do item: ')\n",
        "  qtd = int(input('Digite a quantidade:'))\n",
        "  valor = float(input('Digite o valor:'))\n",
        "  mercado.append([nome,qtd,valor])\n",
        "print(mercado)"
      ],
      "metadata": {
        "colab": {
          "base_uri": "https://localhost:8080/"
        },
        "id": "KdPPYaGympso",
        "outputId": "67a349f7-f904-4bd2-a665-c16e1c981edf"
      },
      "execution_count": 33,
      "outputs": [
        {
          "output_type": "stream",
          "name": "stdout",
          "text": [
            "Digite o nome do item: Cebola\n",
            "Digite a quantidade:2\n",
            "Digite o valor:0.58\n",
            "Digite o nome do item: Tomate\n",
            "Digite a quantidade:3\n",
            "Digite o valor:0.48\n",
            "Digite o nome do item: Alface\n",
            "Digite a quantidade:1\n",
            "Digite o valor:2\n",
            "[['Cebola', 2, 0.58], ['Tomate', 3, 0.48], ['Alface', 1, 2.0]]\n"
          ]
        }
      ]
    },
    {
      "cell_type": "code",
      "source": [
        "soma = 0\n",
        "print('lista de compras: ')\n",
        "print('-' * 20)\n",
        "print('item | quantidade | valor unitário | total do item')\n",
        "for item in mercado:\n",
        "  print('{} | {} | {} | {}'.format(item[0], item[1], item[2], item[1] * item[2]))\n",
        "  soma += item[1] * item[2]\n",
        "print('-' * 20)\n",
        "print('Total a ser pago: {}'.format(soma))\n"
      ],
      "metadata": {
        "colab": {
          "base_uri": "https://localhost:8080/"
        },
        "id": "S-nIFv_zn8H1",
        "outputId": "76ca25e4-5c47-43bf-bd97-322bd7e1a4b5"
      },
      "execution_count": 36,
      "outputs": [
        {
          "output_type": "stream",
          "name": "stdout",
          "text": [
            "lista de compras: \n",
            "--------------------\n",
            "item | quantidade | valor unitário | total do item\n",
            "Cebola | 2 | 0.58 | 1.16\n",
            "Tomate | 3 | 0.48 | 1.44\n",
            "Alface | 1 | 2.0 | 2.0\n",
            "--------------------\n",
            "Total a ser pago: 4.6\n"
          ]
        }
      ]
    },
    {
      "cell_type": "markdown",
      "source": [
        "# 4.DICIONÁRIOS"
      ],
      "metadata": {
        "id": "21EbodNvrbCk"
      }
    },
    {
      "cell_type": "code",
      "source": [
        "game = {'nome':'Super Mario',\n",
        "        'desenvolvedora':'Nintendo',\n",
        "        'ano': 1990}\n",
        "print(game)"
      ],
      "metadata": {
        "colab": {
          "base_uri": "https://localhost:8080/"
        },
        "id": "fFxk4KZZrhqz",
        "outputId": "d551fbab-37e7-4627-b72c-d5cd48331eec"
      },
      "execution_count": 41,
      "outputs": [
        {
          "output_type": "stream",
          "name": "stdout",
          "text": [
            "{'nome': 'Super Mario', 'desenvolvedora': 'Nintendo', 'ano': 1990}\n"
          ]
        }
      ]
    },
    {
      "cell_type": "code",
      "source": [
        "print(game['nome'])\n",
        "print(game['desenvolvedora'])\n",
        "print(game['ano'])\n"
      ],
      "metadata": {
        "colab": {
          "base_uri": "https://localhost:8080/"
        },
        "id": "0sltCyfwsPoD",
        "outputId": "1ddbdcbf-4ac8-4499-d95f-a97121321458"
      },
      "execution_count": 42,
      "outputs": [
        {
          "output_type": "stream",
          "name": "stdout",
          "text": [
            "Super Mario\n",
            "Nintendo\n",
            "1990\n"
          ]
        }
      ]
    },
    {
      "cell_type": "markdown",
      "source": [
        "Voltando..."
      ],
      "metadata": {
        "id": "XrNTNWJTvo2m"
      }
    },
    {
      "cell_type": "code",
      "source": [
        "print(game.values())"
      ],
      "metadata": {
        "colab": {
          "base_uri": "https://localhost:8080/"
        },
        "id": "SmgyQ8bcvrCx",
        "outputId": "013ccef3-30a4-4dbe-f97e-043d83e9e5b5"
      },
      "execution_count": 43,
      "outputs": [
        {
          "output_type": "stream",
          "name": "stdout",
          "text": [
            "dict_values(['Super Mario', 'Nintendo', 1990])\n"
          ]
        }
      ]
    },
    {
      "cell_type": "code",
      "source": [
        "for i in game.values():\n",
        "  print(i)"
      ],
      "metadata": {
        "colab": {
          "base_uri": "https://localhost:8080/"
        },
        "id": "i3IiorMRv-fL",
        "outputId": "d6514652-66b6-46e8-86a5-fb985329e174"
      },
      "execution_count": 44,
      "outputs": [
        {
          "output_type": "stream",
          "name": "stdout",
          "text": [
            "Super Mario\n",
            "Nintendo\n",
            "1990\n"
          ]
        }
      ]
    },
    {
      "cell_type": "code",
      "source": [
        "print(game.keys())"
      ],
      "metadata": {
        "colab": {
          "base_uri": "https://localhost:8080/"
        },
        "id": "ybXy12-AwGoI",
        "outputId": "c24272df-7186-4cab-d738-5c33b04ce086"
      },
      "execution_count": 45,
      "outputs": [
        {
          "output_type": "stream",
          "name": "stdout",
          "text": [
            "dict_keys(['nome', 'desenvolvedora', 'ano'])\n"
          ]
        }
      ]
    },
    {
      "cell_type": "code",
      "source": [
        "for i in game.keys():\n",
        "  print(i)"
      ],
      "metadata": {
        "colab": {
          "base_uri": "https://localhost:8080/"
        },
        "id": "GGwTij1bwMLN",
        "outputId": "a5009600-9e6f-413d-8a42-298270281830"
      },
      "execution_count": 46,
      "outputs": [
        {
          "output_type": "stream",
          "name": "stdout",
          "text": [
            "nome\n",
            "desenvolvedora\n",
            "ano\n"
          ]
        }
      ]
    },
    {
      "cell_type": "code",
      "source": [
        "print(game.items())"
      ],
      "metadata": {
        "colab": {
          "base_uri": "https://localhost:8080/"
        },
        "id": "8zpG6Rp8wU5p",
        "outputId": "ccebecc6-1d49-4769-aa89-72121c23bf6d"
      },
      "execution_count": 47,
      "outputs": [
        {
          "output_type": "stream",
          "name": "stdout",
          "text": [
            "dict_items([('nome', 'Super Mario'), ('desenvolvedora', 'Nintendo'), ('ano', 1990)])\n"
          ]
        }
      ]
    },
    {
      "cell_type": "code",
      "source": [
        "for i,j in game.items():\n",
        "  print('{} = {}'.format(i,j))"
      ],
      "metadata": {
        "colab": {
          "base_uri": "https://localhost:8080/"
        },
        "id": "y-a3jqJgwfKo",
        "outputId": "1d375f62-f4e8-4885-9d2c-78f724de08a7"
      },
      "execution_count": 48,
      "outputs": [
        {
          "output_type": "stream",
          "name": "stdout",
          "text": [
            "nome = Super Mario\n",
            "desenvolvedora = Nintendo\n",
            "ano = 1990\n"
          ]
        }
      ]
    },
    {
      "cell_type": "markdown",
      "source": [
        "# Listas com dicionários"
      ],
      "metadata": {
        "id": "ytwNzagoxHuN"
      }
    },
    {
      "cell_type": "code",
      "source": [
        "games = []\n",
        "game1 = {'nome':'Super Mario',\n",
        "         'videogame':'Super Nintendo',\n",
        "         'ano':1990}\n",
        "game2 = {'nome':'Zelda Ocariana of Time',\n",
        "         'videogame':'Nintendo 64',\n",
        "         'ano':1998}\n",
        "game3 = {'nome':'Pokemon Yellow',\n",
        "         'videogame':'Game boy',\n",
        "         'ano':1999}\n",
        "games = [game1, game2, game3]\n",
        "print(games)"
      ],
      "metadata": {
        "colab": {
          "base_uri": "https://localhost:8080/"
        },
        "id": "SvKTby0exdah",
        "outputId": "942ec9ac-2f36-49b7-ad8d-626da1270fb3"
      },
      "execution_count": 49,
      "outputs": [
        {
          "output_type": "stream",
          "name": "stdout",
          "text": [
            "[{'nome': 'Super Mario', 'videogame': 'Super Nintendo', 'ano': 1990}, {'nome': 'Zelda Ocariana of Time', 'videogame': 'Nintendo 64', 'ano': 1998}, {'nome': 'Pokemon Yellow', 'videogame': 'Game boy', 'ano': 1999}]\n"
          ]
        }
      ]
    },
    {
      "cell_type": "code",
      "source": [
        "game = {}\n",
        "games = []\n",
        "for i in range(3):\n",
        "  game['nome'] = input('Qual o nome do jogo?')\n",
        "  game['videogame'] = input('Para qual video-game ele foi lançado?')\n",
        "  game['ano'] = input('Qual o ano de lançamento?')\n",
        "  games.append(game.copy())\n",
        "print('-' * 20)\n",
        "for e in games:\n",
        "  for i,j in e.items():\n",
        "    print('O campo {} tem o valor {}.'.format(i,j))"
      ],
      "metadata": {
        "colab": {
          "base_uri": "https://localhost:8080/"
        },
        "id": "rJCITJgyy6Dq",
        "outputId": "e791aad7-528a-4e4f-cb87-68ddeff33ff9"
      },
      "execution_count": 51,
      "outputs": [
        {
          "output_type": "stream",
          "name": "stdout",
          "text": [
            "Qual o nome do jogo?Mario\n",
            "Para qual video-game ele foi lançado?SNES\n",
            "Qual o ano de lançamento?1990\n",
            "Qual o nome do jogo?Zelda\n",
            "Para qual video-game ele foi lançado?N64\n",
            "Qual o ano de lançamento?1998\n",
            "Qual o nome do jogo?Pokemon\n",
            "Para qual video-game ele foi lançado?game boy\n",
            "Qual o ano de lançamento?1999\n",
            "--------------------\n",
            "O campo nome tem o valor Mario.\n",
            "O campo videogame tem o valor SNES.\n",
            "O campo ano tem o valor 1990.\n",
            "O campo nome tem o valor Zelda.\n",
            "O campo videogame tem o valor N64.\n",
            "O campo ano tem o valor 1998.\n",
            "O campo nome tem o valor Pokemon.\n",
            "O campo videogame tem o valor game boy.\n",
            "O campo ano tem o valor 1999.\n"
          ]
        }
      ]
    },
    {
      "cell_type": "markdown",
      "source": [
        "# Dicionários com listas"
      ],
      "metadata": {
        "id": "6O0Zh3pa1UUv"
      }
    },
    {
      "cell_type": "code",
      "source": [
        "games = {'nome':['Super Mario', 'Zelda Ocariana of Time', 'Pokemon Yellow'],\n",
        "         'videogame':['Super Nintendo','Nintendo 64','Game boy'],\n",
        "         'ano':[1990,1998,1999]}\n",
        "print(games)"
      ],
      "metadata": {
        "colab": {
          "base_uri": "https://localhost:8080/"
        },
        "id": "MPuqTMlj1bNk",
        "outputId": "87b89540-6822-48a2-cd4c-ed5eeba4f968"
      },
      "execution_count": 52,
      "outputs": [
        {
          "output_type": "stream",
          "name": "stdout",
          "text": [
            "{'nome': ['Super Mario', 'Zelda Ocariana of Time', 'Pokemon Yellow'], 'videogame': ['Super Nintendo', 'Nintendo 64', 'Game boy'], 'ano': [1990, 1998, 1999]}\n"
          ]
        }
      ]
    },
    {
      "cell_type": "code",
      "source": [
        "games = {'nome':[],'videogame':[],'ano':[]}\n",
        "for i in range(3):\n",
        "  nome = input('Qual o nome do jogo?')\n",
        "  videogame = input('Para qual video-game ele foi lançado?')\n",
        "  ano = input('Qual o ano de lançamento?')\n",
        "  games['nome'].append(nome)\n",
        "  games['videogame'].append(videogame)\n",
        "  games['ano'].append(ano)\n",
        "print('-' * 20)\n",
        "print(games)"
      ],
      "metadata": {
        "colab": {
          "base_uri": "https://localhost:8080/"
        },
        "id": "yPGwNERb2enI",
        "outputId": "04160170-23e2-4594-98e7-328f6c11db1e"
      },
      "execution_count": 53,
      "outputs": [
        {
          "output_type": "stream",
          "name": "stdout",
          "text": [
            "Qual o nome do jogo?Mario\n",
            "Para qual video-game ele foi lançado?nintendo\n",
            "Qual o ano de lançamento?1990\n",
            "Qual o nome do jogo?zelda\n",
            "Para qual video-game ele foi lançado?N64\n",
            "Qual o ano de lançamento?1998\n",
            "Qual o nome do jogo?Pokemon\n",
            "Para qual video-game ele foi lançado?game boy\n",
            "Qual o ano de lançamento?1999\n",
            "--------------------\n",
            "{'nome': ['Mario', 'zelda', 'Pokemon'], 'videogame': ['nintendo', 'N64', 'game boy'], 'ano': ['1990', '1998', '1999']}\n"
          ]
        }
      ]
    },
    {
      "cell_type": "markdown",
      "source": [
        "# 5.TRABALHANDO COM MÉTODOS EM STRINGS"
      ],
      "metadata": {
        "id": "j3yVUhBD7yGh"
      }
    },
    {
      "cell_type": "code",
      "source": [
        "s1 = 'Algoritmos'\n",
        "prin(s1)\n",
        "s1[0] = 'a'"
      ],
      "metadata": {
        "colab": {
          "base_uri": "https://localhost:8080/",
          "height": 200
        },
        "id": "_SzcD3Yb79zq",
        "outputId": "17f5a9e9-8483-429f-a2ce-2f86eaf55ca8"
      },
      "execution_count": 55,
      "outputs": [
        {
          "output_type": "error",
          "ename": "NameError",
          "evalue": "ignored",
          "traceback": [
            "\u001b[0;31m---------------------------------------------------------------------------\u001b[0m",
            "\u001b[0;31mNameError\u001b[0m                                 Traceback (most recent call last)",
            "\u001b[0;32m<ipython-input-55-aaae9d2e3209>\u001b[0m in \u001b[0;36m<module>\u001b[0;34m\u001b[0m\n\u001b[1;32m      1\u001b[0m \u001b[0ms1\u001b[0m \u001b[0;34m=\u001b[0m \u001b[0;34m'Algoritmos'\u001b[0m\u001b[0;34m\u001b[0m\u001b[0;34m\u001b[0m\u001b[0m\n\u001b[0;32m----> 2\u001b[0;31m \u001b[0mprin\u001b[0m\u001b[0;34m(\u001b[0m\u001b[0ms1\u001b[0m\u001b[0;34m)\u001b[0m\u001b[0;34m\u001b[0m\u001b[0;34m\u001b[0m\u001b[0m\n\u001b[0m\u001b[1;32m      3\u001b[0m \u001b[0ms1\u001b[0m\u001b[0;34m[\u001b[0m\u001b[0;36m0\u001b[0m\u001b[0;34m]\u001b[0m \u001b[0;34m=\u001b[0m \u001b[0;34m'a'\u001b[0m\u001b[0;34m\u001b[0m\u001b[0;34m\u001b[0m\u001b[0m\n",
            "\u001b[0;31mNameError\u001b[0m: name 'prin' is not defined"
          ]
        }
      ]
    },
    {
      "cell_type": "code",
      "source": [
        "s1 = list('Algoritmos')\n",
        "print(s1) #print separado\n",
        "print(''.join(s1)) #print agrupado"
      ],
      "metadata": {
        "colab": {
          "base_uri": "https://localhost:8080/"
        },
        "id": "8rTKUVek8Ury",
        "outputId": "47ec3e4e-1a75-4900-d709-ac694a71b591"
      },
      "execution_count": 56,
      "outputs": [
        {
          "output_type": "stream",
          "name": "stdout",
          "text": [
            "['A', 'l', 'g', 'o', 'r', 'i', 't', 'm', 'o', 's']\n",
            "Algoritmos\n"
          ]
        }
      ]
    },
    {
      "cell_type": "code",
      "source": [
        "s1[0] = 'a'\n",
        "print(''.join(s1))"
      ],
      "metadata": {
        "colab": {
          "base_uri": "https://localhost:8080/"
        },
        "id": "n6lOgEPx8ydJ",
        "outputId": "6c234696-cff8-4359-9bd7-c811732419c8"
      },
      "execution_count": 57,
      "outputs": [
        {
          "output_type": "stream",
          "name": "stdout",
          "text": [
            "algoritmos\n"
          ]
        }
      ]
    },
    {
      "cell_type": "markdown",
      "source": [
        "# Verificando caracteres"
      ],
      "metadata": {
        "id": "zQSryoYB89MW"
      }
    },
    {
      "cell_type": "code",
      "source": [
        "s1 = 'Lógica de Programação e Algoritmos'\n",
        "s1.startswith('Lógica')"
      ],
      "metadata": {
        "colab": {
          "base_uri": "https://localhost:8080/"
        },
        "id": "R-esmvk99C_B",
        "outputId": "2170bfeb-46c3-47d2-f377-4378ead775a4"
      },
      "execution_count": 58,
      "outputs": [
        {
          "output_type": "execute_result",
          "data": {
            "text/plain": [
              "True"
            ]
          },
          "metadata": {},
          "execution_count": 58
        }
      ]
    },
    {
      "cell_type": "code",
      "source": [
        "s1 = 'Lógica de Programação e Algoritmos'\n",
        "s1.endswith('Algoritmos')"
      ],
      "metadata": {
        "colab": {
          "base_uri": "https://localhost:8080/"
        },
        "id": "lzWB4fPtC8JF",
        "outputId": "5eaf0bbc-2c07-417f-d616-716bc63aad65"
      },
      "execution_count": 59,
      "outputs": [
        {
          "output_type": "execute_result",
          "data": {
            "text/plain": [
              "True"
            ]
          },
          "metadata": {},
          "execution_count": 59
        }
      ]
    },
    {
      "cell_type": "code",
      "source": [
        "s1 = 'Lógica de Programação e Algoritmos'\n",
        "s1.endswith('algoritmos')"
      ],
      "metadata": {
        "colab": {
          "base_uri": "https://localhost:8080/"
        },
        "id": "6duRo840DL4C",
        "outputId": "e1784f8e-0a95-46e2-b0bd-1e09f266540b"
      },
      "execution_count": 60,
      "outputs": [
        {
          "output_type": "execute_result",
          "data": {
            "text/plain": [
              "False"
            ]
          },
          "metadata": {},
          "execution_count": 60
        }
      ]
    },
    {
      "cell_type": "code",
      "source": [
        "s1 = 'Lógica de Programação e Algoritmos'\n",
        "s1.lower().endswith('algoritmos')"
      ],
      "metadata": {
        "colab": {
          "base_uri": "https://localhost:8080/"
        },
        "id": "Wav44gJKEnUW",
        "outputId": "a95f0d1d-3467-4289-c44d-008dc6e6abea"
      },
      "execution_count": 61,
      "outputs": [
        {
          "output_type": "execute_result",
          "data": {
            "text/plain": [
              "True"
            ]
          },
          "metadata": {},
          "execution_count": 61
        }
      ]
    },
    {
      "cell_type": "code",
      "source": [
        "s1 = 'Lógica de Programação e Algoritmos'\n",
        "print(s1.upper())\n",
        "print(s1.lower())"
      ],
      "metadata": {
        "colab": {
          "base_uri": "https://localhost:8080/"
        },
        "id": "qKtaVd6RExcO",
        "outputId": "ee7f09fc-6a11-4dd2-ab63-0fb8575ab61e"
      },
      "execution_count": 62,
      "outputs": [
        {
          "output_type": "stream",
          "name": "stdout",
          "text": [
            "LÓGICA DE PROGRAMAÇÃO E ALGORITMOS\n",
            "lógica de programação e algoritmos\n"
          ]
        }
      ]
    },
    {
      "cell_type": "markdown",
      "source": [
        "# Contando caracteres"
      ],
      "metadata": {
        "id": "og0BANZCGFxM"
      }
    },
    {
      "cell_type": "code",
      "source": [
        "s1 = 'Lógica de Programação e Algoritmos'\n",
        "s1.count('a')"
      ],
      "metadata": {
        "colab": {
          "base_uri": "https://localhost:8080/"
        },
        "id": "8afs9WrVGKfJ",
        "outputId": "40de3a62-fd33-484a-b736-a75e2cde62ed"
      },
      "execution_count": 63,
      "outputs": [
        {
          "output_type": "execute_result",
          "data": {
            "text/plain": [
              "3"
            ]
          },
          "metadata": {},
          "execution_count": 63
        }
      ]
    },
    {
      "cell_type": "code",
      "source": [
        "s1 = 'Lógica de Programação e Algoritmos'\n",
        "s1.lower().count('a')"
      ],
      "metadata": {
        "colab": {
          "base_uri": "https://localhost:8080/"
        },
        "id": "MRBL6wwzGRTH",
        "outputId": "37ab1eec-9ecb-4e30-8983-edf3d1d21dde"
      },
      "execution_count": 64,
      "outputs": [
        {
          "output_type": "execute_result",
          "data": {
            "text/plain": [
              "4"
            ]
          },
          "metadata": {},
          "execution_count": 64
        }
      ]
    },
    {
      "cell_type": "code",
      "source": [
        "s1 = 'Um mafagafinho, dois mafagafinhos, três mafagafinhos...'\n",
        "s1.lower().count('mafagafinho')"
      ],
      "metadata": {
        "colab": {
          "base_uri": "https://localhost:8080/"
        },
        "id": "kAAwxsmVGgvK",
        "outputId": "e0bcb96e-506e-4dda-d679-7f3f7827a2f9"
      },
      "execution_count": 66,
      "outputs": [
        {
          "output_type": "execute_result",
          "data": {
            "text/plain": [
              "3"
            ]
          },
          "metadata": {},
          "execution_count": 66
        }
      ]
    },
    {
      "cell_type": "markdown",
      "source": [
        "# Quebrando strings"
      ],
      "metadata": {
        "id": "adOkbz47HV_H"
      }
    },
    {
      "cell_type": "code",
      "source": [
        "s1 = 'Um mafagafinho, dois mafagafinhos, três mafagafinhos...'\n",
        "s1.split(' ')"
      ],
      "metadata": {
        "colab": {
          "base_uri": "https://localhost:8080/"
        },
        "id": "MMlt8EDCHbad",
        "outputId": "6a95b56d-850d-4365-92b9-fffe9158a1e4"
      },
      "execution_count": 67,
      "outputs": [
        {
          "output_type": "execute_result",
          "data": {
            "text/plain": [
              "['Um', 'mafagafinho,', 'dois', 'mafagafinhos,', 'três', 'mafagafinhos...']"
            ]
          },
          "metadata": {},
          "execution_count": 67
        }
      ]
    },
    {
      "cell_type": "markdown",
      "source": [
        "# Substituindo strings"
      ],
      "metadata": {
        "id": "UdYTToLuIUe4"
      }
    },
    {
      "cell_type": "code",
      "source": [
        "s1 = 'Um mafagafinho, dois mafagafinhos, três mafagafinhos...'\n",
        "s1.replace('mafagafinho','gatinho',)"
      ],
      "metadata": {
        "colab": {
          "base_uri": "https://localhost:8080/",
          "height": 36
        },
        "id": "9tjSqkxxIalD",
        "outputId": "c8016926-a9e4-4d82-e653-ac40974cc67a"
      },
      "execution_count": 68,
      "outputs": [
        {
          "output_type": "execute_result",
          "data": {
            "text/plain": [
              "'Um gatinho, dois gatinhos, três gatinhos...'"
            ],
            "application/vnd.google.colaboratory.intrinsic+json": {
              "type": "string"
            }
          },
          "metadata": {},
          "execution_count": 68
        }
      ]
    },
    {
      "cell_type": "code",
      "source": [
        "s1 = 'Um mafagafinho, dois mafagafinhos, três mafagafinhos...'\n",
        "s1.replace('mafagafinho','gatinho',1)"
      ],
      "metadata": {
        "colab": {
          "base_uri": "https://localhost:8080/",
          "height": 36
        },
        "id": "92HXHh3pIxkZ",
        "outputId": "3509d088-3ceb-456d-99c3-5458b36af776"
      },
      "execution_count": 69,
      "outputs": [
        {
          "output_type": "execute_result",
          "data": {
            "text/plain": [
              "'Um gatinho, dois mafagafinhos, três mafagafinhos...'"
            ],
            "application/vnd.google.colaboratory.intrinsic+json": {
              "type": "string"
            }
          },
          "metadata": {},
          "execution_count": 69
        }
      ]
    },
    {
      "cell_type": "markdown",
      "source": [
        "Voltando..."
      ],
      "metadata": {
        "id": "KCi1x4ilI6xD"
      }
    },
    {
      "cell_type": "code",
      "source": [],
      "metadata": {
        "id": "F3miAMheI8dh"
      },
      "execution_count": null,
      "outputs": []
    },
    {
      "cell_type": "markdown",
      "source": [
        "# Validando tipos de dados"
      ],
      "metadata": {
        "id": "jh29xWpfN2PI"
      }
    },
    {
      "cell_type": "code",
      "source": [
        "s1 = 'Lógica de Programação e Algoritmos'\n",
        "s2 = '42'"
      ],
      "metadata": {
        "id": "Vn637uvcOA0T"
      },
      "execution_count": 70,
      "outputs": []
    },
    {
      "cell_type": "code",
      "source": [
        "print(s1.isalnum())\n",
        "print(s2.isalnum())"
      ],
      "metadata": {
        "colab": {
          "base_uri": "https://localhost:8080/"
        },
        "id": "_s77gwrQOLtC",
        "outputId": "c19d3262-f92f-4025-9763-ee63acd33f05"
      },
      "execution_count": 71,
      "outputs": [
        {
          "output_type": "stream",
          "name": "stdout",
          "text": [
            "False\n",
            "True\n"
          ]
        }
      ]
    },
    {
      "cell_type": "code",
      "source": [
        "print(s1.isalpha())\n",
        "print(s2.isalpha())"
      ],
      "metadata": {
        "colab": {
          "base_uri": "https://localhost:8080/"
        },
        "id": "zWZaHk-3Obdj",
        "outputId": "a4da5c67-ee0b-4dba-ff54-5d4f4c88d954"
      },
      "execution_count": 72,
      "outputs": [
        {
          "output_type": "stream",
          "name": "stdout",
          "text": [
            "False\n",
            "False\n"
          ]
        }
      ]
    },
    {
      "cell_type": "code",
      "source": [
        "s1 = 'LógicadeProgramaçãoeAlgoritmos'\n",
        "print(s1.isalpha())"
      ],
      "metadata": {
        "colab": {
          "base_uri": "https://localhost:8080/"
        },
        "id": "q_8B6shbOlNV",
        "outputId": "5324a7fc-f354-435d-a3e3-be749105f291"
      },
      "execution_count": 73,
      "outputs": [
        {
          "output_type": "stream",
          "name": "stdout",
          "text": [
            "True\n"
          ]
        }
      ]
    }
  ]
}